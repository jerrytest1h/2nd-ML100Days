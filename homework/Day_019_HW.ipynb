{
  "cells": [
    {
      "cell_type": "markdown",
      "metadata": {
        "collapsed": true,
        "pycharm": {}
      },
      "source": [
        "# 作業 : (Kaggle)鐵達尼生存預測\n",
        "https://www.kaggle.com/c/titanic"
      ]
    },
    {
      "cell_type": "markdown",
      "metadata": {
        "pycharm": {}
      },
      "source": [
        "# [作業目標]\n",
        "- 試著模仿範例寫法, 在鐵達尼生存預測中, 觀察填補缺值以及 標準化 / 最小最大化 對數值的影響"
      ]
    },
    {
      "cell_type": "markdown",
      "metadata": {
        "pycharm": {}
      },
      "source": [
        "# [作業重點]\n",
        "- 觀察替換不同補缺方式, 對於特徵的影響 (In[4]~In[6], Out[4]~Out[6])\n",
        "- 觀察替換不同特徵縮放方式, 對於特徵的影響 (In[7]~In[8], Out[7]~Out[8])"
      ]
    },
    {
      "cell_type": "code",
      "execution_count": 2,
      "metadata": {
        "pycharm": {
          "is_executing": false
        }
      },
      "outputs": [
        {
          "data": {
            "text/plain": "   Pclass                                               Name     Sex   Age  \\\n0       3                            Braund, Mr. Owen Harris    male  22.0   \n1       1  Cumings, Mrs. John Bradley (Florence Briggs Th...  female  38.0   \n2       3                             Heikkinen, Miss. Laina  female  26.0   \n3       1       Futrelle, Mrs. Jacques Heath (Lily May Peel)  female  35.0   \n4       3                           Allen, Mr. William Henry    male  35.0   \n\n   SibSp  Parch            Ticket     Fare Cabin Embarked  \n0      1      0         A/5 21171   7.2500   NaN        S  \n1      1      0          PC 17599  71.2833   C85        C  \n2      0      0  STON/O2. 3101282   7.9250   NaN        S  \n3      1      0            113803  53.1000  C123        S  \n4      0      0            373450   8.0500   NaN        S  ",
            "text/html": "\u003cdiv\u003e\n\u003cstyle scoped\u003e\n    .dataframe tbody tr th:only-of-type {\n        vertical-align: middle;\n    }\n\n    .dataframe tbody tr th {\n        vertical-align: top;\n    }\n\n    .dataframe thead th {\n        text-align: right;\n    }\n\u003c/style\u003e\n\u003ctable border\u003d\"1\" class\u003d\"dataframe\"\u003e\n  \u003cthead\u003e\n    \u003ctr style\u003d\"text-align: right;\"\u003e\n      \u003cth\u003e\u003c/th\u003e\n      \u003cth\u003ePclass\u003c/th\u003e\n      \u003cth\u003eName\u003c/th\u003e\n      \u003cth\u003eSex\u003c/th\u003e\n      \u003cth\u003eAge\u003c/th\u003e\n      \u003cth\u003eSibSp\u003c/th\u003e\n      \u003cth\u003eParch\u003c/th\u003e\n      \u003cth\u003eTicket\u003c/th\u003e\n      \u003cth\u003eFare\u003c/th\u003e\n      \u003cth\u003eCabin\u003c/th\u003e\n      \u003cth\u003eEmbarked\u003c/th\u003e\n    \u003c/tr\u003e\n  \u003c/thead\u003e\n  \u003ctbody\u003e\n    \u003ctr\u003e\n      \u003cth\u003e0\u003c/th\u003e\n      \u003ctd\u003e3\u003c/td\u003e\n      \u003ctd\u003eBraund, Mr. Owen Harris\u003c/td\u003e\n      \u003ctd\u003emale\u003c/td\u003e\n      \u003ctd\u003e22.0\u003c/td\u003e\n      \u003ctd\u003e1\u003c/td\u003e\n      \u003ctd\u003e0\u003c/td\u003e\n      \u003ctd\u003eA/5 21171\u003c/td\u003e\n      \u003ctd\u003e7.2500\u003c/td\u003e\n      \u003ctd\u003eNaN\u003c/td\u003e\n      \u003ctd\u003eS\u003c/td\u003e\n    \u003c/tr\u003e\n    \u003ctr\u003e\n      \u003cth\u003e1\u003c/th\u003e\n      \u003ctd\u003e1\u003c/td\u003e\n      \u003ctd\u003eCumings, Mrs. John Bradley (Florence Briggs Th...\u003c/td\u003e\n      \u003ctd\u003efemale\u003c/td\u003e\n      \u003ctd\u003e38.0\u003c/td\u003e\n      \u003ctd\u003e1\u003c/td\u003e\n      \u003ctd\u003e0\u003c/td\u003e\n      \u003ctd\u003ePC 17599\u003c/td\u003e\n      \u003ctd\u003e71.2833\u003c/td\u003e\n      \u003ctd\u003eC85\u003c/td\u003e\n      \u003ctd\u003eC\u003c/td\u003e\n    \u003c/tr\u003e\n    \u003ctr\u003e\n      \u003cth\u003e2\u003c/th\u003e\n      \u003ctd\u003e3\u003c/td\u003e\n      \u003ctd\u003eHeikkinen, Miss. Laina\u003c/td\u003e\n      \u003ctd\u003efemale\u003c/td\u003e\n      \u003ctd\u003e26.0\u003c/td\u003e\n      \u003ctd\u003e0\u003c/td\u003e\n      \u003ctd\u003e0\u003c/td\u003e\n      \u003ctd\u003eSTON/O2. 3101282\u003c/td\u003e\n      \u003ctd\u003e7.9250\u003c/td\u003e\n      \u003ctd\u003eNaN\u003c/td\u003e\n      \u003ctd\u003eS\u003c/td\u003e\n    \u003c/tr\u003e\n    \u003ctr\u003e\n      \u003cth\u003e3\u003c/th\u003e\n      \u003ctd\u003e1\u003c/td\u003e\n      \u003ctd\u003eFutrelle, Mrs. Jacques Heath (Lily May Peel)\u003c/td\u003e\n      \u003ctd\u003efemale\u003c/td\u003e\n      \u003ctd\u003e35.0\u003c/td\u003e\n      \u003ctd\u003e1\u003c/td\u003e\n      \u003ctd\u003e0\u003c/td\u003e\n      \u003ctd\u003e113803\u003c/td\u003e\n      \u003ctd\u003e53.1000\u003c/td\u003e\n      \u003ctd\u003eC123\u003c/td\u003e\n      \u003ctd\u003eS\u003c/td\u003e\n    \u003c/tr\u003e\n    \u003ctr\u003e\n      \u003cth\u003e4\u003c/th\u003e\n      \u003ctd\u003e3\u003c/td\u003e\n      \u003ctd\u003eAllen, Mr. William Henry\u003c/td\u003e\n      \u003ctd\u003emale\u003c/td\u003e\n      \u003ctd\u003e35.0\u003c/td\u003e\n      \u003ctd\u003e0\u003c/td\u003e\n      \u003ctd\u003e0\u003c/td\u003e\n      \u003ctd\u003e373450\u003c/td\u003e\n      \u003ctd\u003e8.0500\u003c/td\u003e\n      \u003ctd\u003eNaN\u003c/td\u003e\n      \u003ctd\u003eS\u003c/td\u003e\n    \u003c/tr\u003e\n  \u003c/tbody\u003e\n\u003c/table\u003e\n\u003c/div\u003e"
          },
          "metadata": {},
          "output_type": "execute_result",
          "execution_count": 2
        }
      ],
      "source": [
        "# 做完特徵工程前的所有準備 (與前範例相同)\n",
        "import pandas as pd\n",
        "import numpy as np\n",
        "import copy\n",
        "from sklearn.preprocessing import MinMaxScaler, StandardScaler\n",
        "from sklearn.model_selection import cross_val_score\n",
        "from sklearn.linear_model import LogisticRegression\n",
        "\n",
        "data_path \u003d \u0027data/\u0027\n",
        "df_train \u003d pd.read_csv(data_path + \u0027titanic_train.csv\u0027)\n",
        "df_test \u003d pd.read_csv(data_path + \u0027titanic_test.csv\u0027)\n",
        "\n",
        "train_Y \u003d df_train[\u0027Survived\u0027]\n",
        "ids \u003d df_test[\u0027PassengerId\u0027]\n",
        "df_train \u003d df_train.drop([\u0027PassengerId\u0027, \u0027Survived\u0027] , axis\u003d1)\n",
        "df_test \u003d df_test.drop([\u0027PassengerId\u0027] , axis\u003d1)\n",
        "df \u003d pd.concat([df_train,df_test])\n",
        "df.head()"
      ]
    },
    {
      "cell_type": "code",
      "execution_count": 3,
      "metadata": {
        "pycharm": {
          "is_executing": false
        }
      },
      "outputs": [
        {
          "name": "stdout",
          "text": [
            "5 Numeric Features : [\u0027Pclass\u0027, \u0027Age\u0027, \u0027SibSp\u0027, \u0027Parch\u0027, \u0027Fare\u0027]\n\n"
          ],
          "output_type": "stream"
        }
      ],
      "source": [
        "#只取 int64, float64 兩種數值型欄位, 存於 num_features 中\n",
        "num_features \u003d []\n",
        "for dtype, feature in zip(df.dtypes, df.columns):\n",
        "    if dtype \u003d\u003d \u0027float64\u0027 or dtype \u003d\u003d \u0027int64\u0027:\n",
        "        num_features.append(feature)\n",
        "print(f\u0027{len(num_features)} Numeric Features : {num_features}\\n\u0027)"
      ]
    },
    {
      "cell_type": "code",
      "execution_count": 4,
      "metadata": {
        "pycharm": {
          "is_executing": false
        }
      },
      "outputs": [
        {
          "data": {
            "text/plain": "   Pclass   Age  SibSp  Parch     Fare\n0       3  22.0      1      0   7.2500\n1       1  38.0      1      0  71.2833\n2       3  26.0      0      0   7.9250\n3       1  35.0      1      0  53.1000\n4       3  35.0      0      0   8.0500",
            "text/html": "\u003cdiv\u003e\n\u003cstyle scoped\u003e\n    .dataframe tbody tr th:only-of-type {\n        vertical-align: middle;\n    }\n\n    .dataframe tbody tr th {\n        vertical-align: top;\n    }\n\n    .dataframe thead th {\n        text-align: right;\n    }\n\u003c/style\u003e\n\u003ctable border\u003d\"1\" class\u003d\"dataframe\"\u003e\n  \u003cthead\u003e\n    \u003ctr style\u003d\"text-align: right;\"\u003e\n      \u003cth\u003e\u003c/th\u003e\n      \u003cth\u003ePclass\u003c/th\u003e\n      \u003cth\u003eAge\u003c/th\u003e\n      \u003cth\u003eSibSp\u003c/th\u003e\n      \u003cth\u003eParch\u003c/th\u003e\n      \u003cth\u003eFare\u003c/th\u003e\n    \u003c/tr\u003e\n  \u003c/thead\u003e\n  \u003ctbody\u003e\n    \u003ctr\u003e\n      \u003cth\u003e0\u003c/th\u003e\n      \u003ctd\u003e3\u003c/td\u003e\n      \u003ctd\u003e22.0\u003c/td\u003e\n      \u003ctd\u003e1\u003c/td\u003e\n      \u003ctd\u003e0\u003c/td\u003e\n      \u003ctd\u003e7.2500\u003c/td\u003e\n    \u003c/tr\u003e\n    \u003ctr\u003e\n      \u003cth\u003e1\u003c/th\u003e\n      \u003ctd\u003e1\u003c/td\u003e\n      \u003ctd\u003e38.0\u003c/td\u003e\n      \u003ctd\u003e1\u003c/td\u003e\n      \u003ctd\u003e0\u003c/td\u003e\n      \u003ctd\u003e71.2833\u003c/td\u003e\n    \u003c/tr\u003e\n    \u003ctr\u003e\n      \u003cth\u003e2\u003c/th\u003e\n      \u003ctd\u003e3\u003c/td\u003e\n      \u003ctd\u003e26.0\u003c/td\u003e\n      \u003ctd\u003e0\u003c/td\u003e\n      \u003ctd\u003e0\u003c/td\u003e\n      \u003ctd\u003e7.9250\u003c/td\u003e\n    \u003c/tr\u003e\n    \u003ctr\u003e\n      \u003cth\u003e3\u003c/th\u003e\n      \u003ctd\u003e1\u003c/td\u003e\n      \u003ctd\u003e35.0\u003c/td\u003e\n      \u003ctd\u003e1\u003c/td\u003e\n      \u003ctd\u003e0\u003c/td\u003e\n      \u003ctd\u003e53.1000\u003c/td\u003e\n    \u003c/tr\u003e\n    \u003ctr\u003e\n      \u003cth\u003e4\u003c/th\u003e\n      \u003ctd\u003e3\u003c/td\u003e\n      \u003ctd\u003e35.0\u003c/td\u003e\n      \u003ctd\u003e0\u003c/td\u003e\n      \u003ctd\u003e0\u003c/td\u003e\n      \u003ctd\u003e8.0500\u003c/td\u003e\n    \u003c/tr\u003e\n  \u003c/tbody\u003e\n\u003c/table\u003e\n\u003c/div\u003e"
          },
          "metadata": {},
          "output_type": "execute_result",
          "execution_count": 4
        }
      ],
      "source": [
        "# 削減文字型欄位, 只剩數值型欄位\n",
        "df \u003d df[num_features]\n",
        "train_num \u003d train_Y.shape[0]\n",
        "df.head()"
      ]
    },
    {
      "cell_type": "markdown",
      "metadata": {
        "collapsed": true,
        "pycharm": {}
      },
      "source": [
        "# 作業1\n",
        "* 試著在補空值區塊, 替換並執行兩種以上填補的缺值, 看看何者比較好?\n",
        "* Ans: 補0的結果比-1好"
      ]
    },
    {
      "cell_type": "code",
      "execution_count": 5,
      "metadata": {
        "pycharm": {
          "is_executing": false
        }
      },
      "outputs": [
        {
          "name": "stderr",
          "text": [
            "C:\\Users\\jerry\\Anaconda3\\lib\\site-packages\\sklearn\\linear_model\\logistic.py:433: FutureWarning: Default solver will be changed to \u0027lbfgs\u0027 in 0.22. Specify a solver to silence this warning.\n  FutureWarning)\nC:\\Users\\jerry\\Anaconda3\\lib\\site-packages\\sklearn\\linear_model\\logistic.py:433: FutureWarning: Default solver will be changed to \u0027lbfgs\u0027 in 0.22. Specify a solver to silence this warning.\n  FutureWarning)\nC:\\Users\\jerry\\Anaconda3\\lib\\site-packages\\sklearn\\linear_model\\logistic.py:433: FutureWarning: Default solver will be changed to \u0027lbfgs\u0027 in 0.22. Specify a solver to silence this warning.\n  FutureWarning)\nC:\\Users\\jerry\\Anaconda3\\lib\\site-packages\\sklearn\\linear_model\\logistic.py:433: FutureWarning: Default solver will be changed to \u0027lbfgs\u0027 in 0.22. Specify a solver to silence this warning.\n  FutureWarning)\nC:\\Users\\jerry\\Anaconda3\\lib\\site-packages\\sklearn\\linear_model\\logistic.py:433: FutureWarning: Default solver will be changed to \u0027lbfgs\u0027 in 0.22. Specify a solver to silence this warning.\n  FutureWarning)\n"
          ],
          "output_type": "stream"
        },
        {
          "data": {
            "text/plain": "0.6960299128976762"
          },
          "metadata": {},
          "output_type": "execute_result",
          "execution_count": 5
        }
      ],
      "source": [
        "# 空值補 -1, 做羅吉斯迴歸\n",
        "df_m1 \u003d df.fillna(-1)\n",
        "train_X \u003d df_m1[:train_num]\n",
        "estimator \u003d LogisticRegression()\n",
        "cross_val_score(estimator, train_X, train_Y, cv\u003d5).mean()"
      ]
    },
    {
      "cell_type": "code",
      "execution_count": 6,
      "metadata": {
        "pycharm": {
          "is_executing": false
        }
      },
      "outputs": [
        {
          "name": "stderr",
          "text": [
            "C:\\Users\\jerry\\Anaconda3\\lib\\site-packages\\sklearn\\linear_model\\logistic.py:433: FutureWarning: Default solver will be changed to \u0027lbfgs\u0027 in 0.22. Specify a solver to silence this warning.\n  FutureWarning)\nC:\\Users\\jerry\\Anaconda3\\lib\\site-packages\\sklearn\\linear_model\\logistic.py:433: FutureWarning: Default solver will be changed to \u0027lbfgs\u0027 in 0.22. Specify a solver to silence this warning.\n  FutureWarning)\nC:\\Users\\jerry\\Anaconda3\\lib\\site-packages\\sklearn\\linear_model\\logistic.py:433: FutureWarning: Default solver will be changed to \u0027lbfgs\u0027 in 0.22. Specify a solver to silence this warning.\n  FutureWarning)\nC:\\Users\\jerry\\Anaconda3\\lib\\site-packages\\sklearn\\linear_model\\logistic.py:433: FutureWarning: Default solver will be changed to \u0027lbfgs\u0027 in 0.22. Specify a solver to silence this warning.\n  FutureWarning)\nC:\\Users\\jerry\\Anaconda3\\lib\\site-packages\\sklearn\\linear_model\\logistic.py:433: FutureWarning: Default solver will be changed to \u0027lbfgs\u0027 in 0.22. Specify a solver to silence this warning.\n  FutureWarning)\n"
          ],
          "output_type": "stream"
        },
        {
          "data": {
            "text/plain": "0.6971535084032942"
          },
          "metadata": {},
          "output_type": "execute_result",
          "execution_count": 6
        }
      ],
      "source": [
        "# 空值補 0, 做羅吉斯迴歸\n",
        "df_m2 \u003d df.fillna(1)\n",
        "train_X \u003d df_m2[:train_num]\n",
        "estimator \u003d LogisticRegression()\n",
        "cross_val_score(estimator, train_X, train_Y, cv\u003d5).mean()"
      ]
    },
    {
      "cell_type": "markdown",
      "metadata": {
        "collapsed": true,
        "pycharm": {}
      },
      "source": [
        "# 作業2\n",
        "* 使用不同的標準化方式 ( 原值 / 最小最大化 / 標準化 )，搭配羅吉斯迴歸模型，何者效果最好?\n",
        "* Ans: 最小最大化 \u003e 標準化 \u003e 原值"
      ]
    },
    {
      "cell_type": "code",
      "execution_count": 7,
      "metadata": {
        "pycharm": {
          "is_executing": false
        }
      },
      "outputs": [
        {
          "name": "stderr",
          "text": [
            "C:\\Users\\jerry\\Anaconda3\\lib\\site-packages\\sklearn\\linear_model\\logistic.py:433: FutureWarning: Default solver will be changed to \u0027lbfgs\u0027 in 0.22. Specify a solver to silence this warning.\n  FutureWarning)\nC:\\Users\\jerry\\Anaconda3\\lib\\site-packages\\sklearn\\linear_model\\logistic.py:433: FutureWarning: Default solver will be changed to \u0027lbfgs\u0027 in 0.22. Specify a solver to silence this warning.\n  FutureWarning)\nC:\\Users\\jerry\\Anaconda3\\lib\\site-packages\\sklearn\\linear_model\\logistic.py:433: FutureWarning: Default solver will be changed to \u0027lbfgs\u0027 in 0.22. Specify a solver to silence this warning.\n  FutureWarning)\nC:\\Users\\jerry\\Anaconda3\\lib\\site-packages\\sklearn\\linear_model\\logistic.py:433: FutureWarning: Default solver will be changed to \u0027lbfgs\u0027 in 0.22. Specify a solver to silence this warning.\n  FutureWarning)\nC:\\Users\\jerry\\Anaconda3\\lib\\site-packages\\sklearn\\linear_model\\logistic.py:433: FutureWarning: Default solver will be changed to \u0027lbfgs\u0027 in 0.22. Specify a solver to silence this warning.\n  FutureWarning)\n"
          ],
          "output_type": "stream"
        },
        {
          "data": {
            "text/plain": "0.6971535084032942"
          },
          "metadata": {},
          "output_type": "execute_result",
          "execution_count": 7
        }
      ],
      "source": [
        "# 原值, 做羅吉斯迴歸\n",
        "df_m3 \u003d df.fillna(0)\n",
        "train_X \u003d df_m3[:train_num]\n",
        "estimator \u003d LogisticRegression()\n",
        "cross_val_score(estimator, train_X, train_Y, cv\u003d5).mean()"
      ]
    },
    {
      "cell_type": "code",
      "execution_count": 8,
      "metadata": {
        "pycharm": {
          "is_executing": false
        }
      },
      "outputs": [
        {
          "name": "stderr",
          "text": [
            "C:\\Users\\jerry\\Anaconda3\\lib\\site-packages\\sklearn\\preprocessing\\data.py:334: DataConversionWarning: Data with input dtype int64, float64 were all converted to float64 by MinMaxScaler.\n  return self.partial_fit(X, y)\nC:\\Users\\jerry\\Anaconda3\\lib\\site-packages\\sklearn\\linear_model\\logistic.py:433: FutureWarning: Default solver will be changed to \u0027lbfgs\u0027 in 0.22. Specify a solver to silence this warning.\n  FutureWarning)\nC:\\Users\\jerry\\Anaconda3\\lib\\site-packages\\sklearn\\linear_model\\logistic.py:433: FutureWarning: Default solver will be changed to \u0027lbfgs\u0027 in 0.22. Specify a solver to silence this warning.\n  FutureWarning)\nC:\\Users\\jerry\\Anaconda3\\lib\\site-packages\\sklearn\\linear_model\\logistic.py:433: FutureWarning: Default solver will be changed to \u0027lbfgs\u0027 in 0.22. Specify a solver to silence this warning.\n  FutureWarning)\nC:\\Users\\jerry\\Anaconda3\\lib\\site-packages\\sklearn\\linear_model\\logistic.py:433: FutureWarning: Default solver will be changed to \u0027lbfgs\u0027 in 0.22. Specify a solver to silence this warning.\n  FutureWarning)\nC:\\Users\\jerry\\Anaconda3\\lib\\site-packages\\sklearn\\linear_model\\logistic.py:433: FutureWarning: Default solver will be changed to \u0027lbfgs\u0027 in 0.22. Specify a solver to silence this warning.\n  FutureWarning)\n"
          ],
          "output_type": "stream"
        },
        {
          "data": {
            "text/plain": "0.7016289882888318"
          },
          "metadata": {},
          "output_type": "execute_result",
          "execution_count": 8
        }
      ],
      "source": [
        "# 空值補 -1, 搭配最大最小化\n",
        "df_m4 \u003d df.fillna(0)\n",
        "df_temp \u003d MinMaxScaler().fit_transform(df_m4)  \n",
        "train_X \u003d df_temp[:train_num]\n",
        "estimator \u003d LogisticRegression()\n",
        "cross_val_score(estimator, train_X, train_Y, cv\u003d5).mean()"
      ]
    },
    {
      "cell_type": "code",
      "execution_count": 9,
      "metadata": {
        "pycharm": {
          "is_executing": false
        }
      },
      "outputs": [
        {
          "name": "stderr",
          "text": [
            "C:\\Users\\jerry\\Anaconda3\\lib\\site-packages\\sklearn\\preprocessing\\data.py:645: DataConversionWarning: Data with input dtype int64, float64 were all converted to float64 by StandardScaler.\n  return self.partial_fit(X, y)\nC:\\Users\\jerry\\Anaconda3\\lib\\site-packages\\sklearn\\base.py:464: DataConversionWarning: Data with input dtype int64, float64 were all converted to float64 by StandardScaler.\n  return self.fit(X, **fit_params).transform(X)\nC:\\Users\\jerry\\Anaconda3\\lib\\site-packages\\sklearn\\linear_model\\logistic.py:433: FutureWarning: Default solver will be changed to \u0027lbfgs\u0027 in 0.22. Specify a solver to silence this warning.\n  FutureWarning)\nC:\\Users\\jerry\\Anaconda3\\lib\\site-packages\\sklearn\\linear_model\\logistic.py:433: FutureWarning: Default solver will be changed to \u0027lbfgs\u0027 in 0.22. Specify a solver to silence this warning.\n  FutureWarning)\nC:\\Users\\jerry\\Anaconda3\\lib\\site-packages\\sklearn\\linear_model\\logistic.py:433: FutureWarning: Default solver will be changed to \u0027lbfgs\u0027 in 0.22. Specify a solver to silence this warning.\n  FutureWarning)\nC:\\Users\\jerry\\Anaconda3\\lib\\site-packages\\sklearn\\linear_model\\logistic.py:433: FutureWarning: Default solver will be changed to \u0027lbfgs\u0027 in 0.22. Specify a solver to silence this warning.\n  FutureWarning)\nC:\\Users\\jerry\\Anaconda3\\lib\\site-packages\\sklearn\\linear_model\\logistic.py:433: FutureWarning: Default solver will be changed to \u0027lbfgs\u0027 in 0.22. Specify a solver to silence this warning.\n  FutureWarning)\n"
          ],
          "output_type": "stream"
        },
        {
          "data": {
            "text/plain": "0.6982582017719778"
          },
          "metadata": {},
          "output_type": "execute_result",
          "execution_count": 9
        }
      ],
      "source": [
        "# 空值補 -1, 搭配最大最小化\n",
        "df_m5 \u003d df.fillna(0)\n",
        "df_temp \u003d StandardScaler().fit_transform(df_m5)  \n",
        "train_X \u003d df_temp[:train_num]\n",
        "estimator \u003d LogisticRegression()\n",
        "cross_val_score(estimator, train_X, train_Y, cv\u003d5).mean()"
      ]
    },
    {
      "cell_type": "code",
      "execution_count": null,
      "metadata": {
        "pycharm": {}
      },
      "outputs": [],
      "source": [
        ""
      ]
    }
  ],
  "metadata": {
    "kernelspec": {
      "display_name": "Python 3",
      "language": "python",
      "name": "python3"
    },
    "language_info": {
      "codemirror_mode": {
        "name": "ipython",
        "version": 3.0
      },
      "file_extension": ".py",
      "mimetype": "text/x-python",
      "name": "python",
      "nbconvert_exporter": "python",
      "pygments_lexer": "ipython3",
      "version": "3.7.1"
    }
  },
  "nbformat": 4,
  "nbformat_minor": 0
}