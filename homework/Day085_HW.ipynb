{
 "cells": [
  {
   "cell_type": "markdown",
   "metadata": {},
   "source": [
    "## Work\n",
    "1. 試改變 monitor \"Validation Accuracy\" 並比較結果\n",
    "2. 調整 earlystop 的等待次數至 10, 25 並比較結果"
   ]
  },
  {
   "cell_type": "code",
   "execution_count": 1,
   "metadata": {},
   "outputs": [
    {
     "name": "stderr",
     "output_type": "stream",
     "text": [
      "Using TensorFlow backend.\n"
     ]
    }
   ],
   "source": [
    "import os\n",
    "import keras\n",
    "import matplotlib.pyplot as plt\n",
    "%matplotlib inline\n",
    "\n",
    "\n",
    "# Disable GPU\n",
    "os.environ[\"CUDA_VISIBLE_DEVICES\"] = \"\""
   ]
  },
  {
   "cell_type": "code",
   "execution_count": 2,
   "metadata": {},
   "outputs": [],
   "source": [
    "train, test = keras.datasets.cifar10.load_data()"
   ]
  },
  {
   "cell_type": "code",
   "execution_count": 3,
   "metadata": {},
   "outputs": [],
   "source": [
    "## 資料前處理\n",
    "def preproc_x(x, flatten=True):\n",
    "    x = x / 255.\n",
    "    if flatten:\n",
    "        x = x.reshape((len(x), -1))\n",
    "    return x\n",
    "\n",
    "def preproc_y(y, num_classes=10):\n",
    "    if y.shape[-1] == 1:\n",
    "        y = keras.utils.to_categorical(y, num_classes)\n",
    "    return y    "
   ]
  },
  {
   "cell_type": "code",
   "execution_count": 4,
   "metadata": {},
   "outputs": [],
   "source": [
    "x_train, y_train = train\n",
    "x_test, y_test = test\n",
    "\n",
    "# Preproc the inputs\n",
    "x_train = preproc_x(x_train)\n",
    "x_test = preproc_x(x_test)\n",
    "\n",
    "# Preprc the outputs\n",
    "y_train = preproc_y(y_train)\n",
    "y_test = preproc_y(y_test)"
   ]
  },
  {
   "cell_type": "code",
   "execution_count": 5,
   "metadata": {},
   "outputs": [],
   "source": [
    "\n",
    "from keras.layers import BatchNormalization\n",
    "\n",
    "\"\"\"\n",
    "建立神經網路，並加入 BN layer\n",
    "\"\"\"\n",
    "def build_mlp(input_shape, output_units=10, num_neurons=[512, 256, 128]):\n",
    "    input_layer = keras.layers.Input(input_shape)\n",
    "    \n",
    "    for i, n_units in enumerate(num_neurons):\n",
    "        if i == 0:\n",
    "            x = keras.layers.Dense(units=n_units, \n",
    "                                   activation=\"relu\", \n",
    "                                   name=\"hidden_layer\"+str(i+1))(input_layer)\n",
    "            x = BatchNormalization()(x)\n",
    "        else:\n",
    "            x = keras.layers.Dense(units=n_units, \n",
    "                                   activation=\"relu\", \n",
    "                                   name=\"hidden_layer\"+str(i+1))(x)\n",
    "            x = BatchNormalization()(x)\n",
    "    \n",
    "    out = keras.layers.Dense(units=output_units, activation=\"softmax\", name=\"output\")(x)\n",
    "    \n",
    "    model = keras.models.Model(inputs=[input_layer], outputs=[out])\n",
    "    return model"
   ]
  },
  {
   "cell_type": "code",
   "execution_count": 6,
   "metadata": {},
   "outputs": [],
   "source": [
    "\"\"\"Code Here\n",
    "設定超參數\n",
    "\"\"\"\n",
    "LEARNING_RATE = 1e-3\n",
    "EPOCHS = 50\n",
    "BATCH_SIZE = 1024\n",
    "MOMENTUM = 0.95"
   ]
  },
  {
   "cell_type": "code",
   "execution_count": 7,
   "metadata": {},
   "outputs": [
    {
     "name": "stderr",
     "output_type": "stream",
     "text": [
      "WARNING: Logging before flag parsing goes to stderr.\n",
      "W0719 12:11:23.653168 15580 deprecation_wrapper.py:119] From C:\\Users\\jerry\\Anaconda3\\lib\\site-packages\\keras\\backend\\tensorflow_backend.py:74: The name tf.get_default_graph is deprecated. Please use tf.compat.v1.get_default_graph instead.\n",
      "\n",
      "W0719 12:11:23.713007 15580 deprecation_wrapper.py:119] From C:\\Users\\jerry\\Anaconda3\\lib\\site-packages\\keras\\backend\\tensorflow_backend.py:517: The name tf.placeholder is deprecated. Please use tf.compat.v1.placeholder instead.\n",
      "\n",
      "W0719 12:11:23.719988 15580 deprecation_wrapper.py:119] From C:\\Users\\jerry\\Anaconda3\\lib\\site-packages\\keras\\backend\\tensorflow_backend.py:4138: The name tf.random_uniform is deprecated. Please use tf.random.uniform instead.\n",
      "\n",
      "W0719 12:11:24.244590 15580 deprecation_wrapper.py:119] From C:\\Users\\jerry\\Anaconda3\\lib\\site-packages\\keras\\backend\\tensorflow_backend.py:133: The name tf.placeholder_with_default is deprecated. Please use tf.compat.v1.placeholder_with_default instead.\n",
      "\n",
      "W0719 12:11:25.646835 15580 deprecation_wrapper.py:119] From C:\\Users\\jerry\\Anaconda3\\lib\\site-packages\\keras\\optimizers.py:790: The name tf.train.Optimizer is deprecated. Please use tf.compat.v1.train.Optimizer instead.\n",
      "\n",
      "W0719 12:11:25.686730 15580 deprecation_wrapper.py:119] From C:\\Users\\jerry\\Anaconda3\\lib\\site-packages\\keras\\backend\\tensorflow_backend.py:3295: The name tf.log is deprecated. Please use tf.math.log instead.\n",
      "\n"
     ]
    },
    {
     "name": "stdout",
     "output_type": "stream",
     "text": [
      "_________________________________________________________________\n",
      "Layer (type)                 Output Shape              Param #   \n",
      "=================================================================\n",
      "input_1 (InputLayer)         (None, 3072)              0         \n",
      "_________________________________________________________________\n",
      "hidden_layer1 (Dense)        (None, 512)               1573376   \n",
      "_________________________________________________________________\n",
      "batch_normalization_1 (Batch (None, 512)               2048      \n",
      "_________________________________________________________________\n",
      "hidden_layer2 (Dense)        (None, 256)               131328    \n",
      "_________________________________________________________________\n",
      "batch_normalization_2 (Batch (None, 256)               1024      \n",
      "_________________________________________________________________\n",
      "hidden_layer3 (Dense)        (None, 128)               32896     \n",
      "_________________________________________________________________\n",
      "batch_normalization_3 (Batch (None, 128)               512       \n",
      "_________________________________________________________________\n",
      "output (Dense)               (None, 10)                1290      \n",
      "=================================================================\n",
      "Total params: 1,742,474\n",
      "Trainable params: 1,740,682\n",
      "Non-trainable params: 1,792\n",
      "_________________________________________________________________\n"
     ]
    },
    {
     "name": "stderr",
     "output_type": "stream",
     "text": [
      "W0719 12:11:26.234264 15580 deprecation.py:323] From C:\\Users\\jerry\\Anaconda3\\lib\\site-packages\\tensorflow\\python\\ops\\math_grad.py:1250: add_dispatch_support.<locals>.wrapper (from tensorflow.python.ops.array_ops) is deprecated and will be removed in a future version.\n",
      "Instructions for updating:\n",
      "Use tf.where in 2.0, which has the same broadcast rule as np.where\n"
     ]
    },
    {
     "name": "stdout",
     "output_type": "stream",
     "text": [
      "Train on 50000 samples, validate on 10000 samples\n",
      "Epoch 1/50\n",
      "50000/50000 [==============================] - 18s 366us/step - loss: 2.2144 - acc: 0.2703 - val_loss: 2.2025 - val_acc: 0.2955\n",
      "Epoch 2/50\n"
     ]
    },
    {
     "name": "stderr",
     "output_type": "stream",
     "text": [
      "C:\\Users\\jerry\\Anaconda3\\lib\\site-packages\\keras\\callbacks.py:569: RuntimeWarning: Early stopping conditioned on metric `val_Accuracy` which is not available. Available metrics are: val_loss,val_acc,loss,acc\n",
      "  (self.monitor, ','.join(list(logs.keys()))), RuntimeWarning\n"
     ]
    },
    {
     "name": "stdout",
     "output_type": "stream",
     "text": [
      "50000/50000 [==============================] - 13s 250us/step - loss: 1.7357 - acc: 0.3946 - val_loss: 1.8138 - val_acc: 0.3720\n",
      "Epoch 3/50\n",
      "50000/50000 [==============================] - 13s 252us/step - loss: 1.6107 - acc: 0.4334 - val_loss: 1.6797 - val_acc: 0.4095\n",
      "Epoch 4/50\n",
      "50000/50000 [==============================] - 13s 259us/step - loss: 1.5369 - acc: 0.4603 - val_loss: 1.6106 - val_acc: 0.4362\n",
      "Epoch 5/50\n",
      "50000/50000 [==============================] - 13s 256us/step - loss: 1.4824 - acc: 0.4798 - val_loss: 1.5831 - val_acc: 0.4395\n",
      "Epoch 6/50\n",
      "50000/50000 [==============================] - 12s 244us/step - loss: 1.4380 - acc: 0.4938 - val_loss: 1.5391 - val_acc: 0.4585\n",
      "Epoch 7/50\n",
      "50000/50000 [==============================] - 13s 254us/step - loss: 1.3962 - acc: 0.5103 - val_loss: 1.5236 - val_acc: 0.4633\n",
      "Epoch 8/50\n",
      "50000/50000 [==============================] - 13s 257us/step - loss: 1.3618 - acc: 0.5238 - val_loss: 1.5103 - val_acc: 0.4666\n",
      "Epoch 9/50\n",
      "50000/50000 [==============================] - 11s 220us/step - loss: 1.3304 - acc: 0.5351 - val_loss: 1.4932 - val_acc: 0.4740\n",
      "Epoch 10/50\n",
      "50000/50000 [==============================] - 9s 174us/step - loss: 1.3003 - acc: 0.5468 - val_loss: 1.4777 - val_acc: 0.4796\n",
      "Epoch 11/50\n",
      "50000/50000 [==============================] - 11s 220us/step - loss: 1.2716 - acc: 0.5584 - val_loss: 1.4764 - val_acc: 0.4798\n",
      "Epoch 12/50\n",
      "50000/50000 [==============================] - 13s 256us/step - loss: 1.2460 - acc: 0.5658 - val_loss: 1.4648 - val_acc: 0.4822\n",
      "Epoch 13/50\n",
      "50000/50000 [==============================] - 13s 252us/step - loss: 1.2205 - acc: 0.5759 - val_loss: 1.4624 - val_acc: 0.4833\n",
      "Epoch 14/50\n",
      "50000/50000 [==============================] - 13s 260us/step - loss: 1.1978 - acc: 0.5844 - val_loss: 1.4625 - val_acc: 0.4814\n",
      "Epoch 15/50\n",
      "50000/50000 [==============================] - 12s 247us/step - loss: 1.1720 - acc: 0.5952 - val_loss: 1.4444 - val_acc: 0.4932\n",
      "Epoch 16/50\n",
      "50000/50000 [==============================] - 14s 275us/step - loss: 1.1479 - acc: 0.6054 - val_loss: 1.4566 - val_acc: 0.4920\n",
      "Epoch 17/50\n",
      "50000/50000 [==============================] - 14s 285us/step - loss: 1.1265 - acc: 0.6123 - val_loss: 1.4426 - val_acc: 0.4883\n",
      "Epoch 18/50\n",
      "50000/50000 [==============================] - 14s 282us/step - loss: 1.1051 - acc: 0.6210 - val_loss: 1.4437 - val_acc: 0.4940\n",
      "Epoch 19/50\n",
      "50000/50000 [==============================] - 14s 287us/step - loss: 1.0818 - acc: 0.6308 - val_loss: 1.4441 - val_acc: 0.4929\n",
      "Epoch 20/50\n",
      "50000/50000 [==============================] - 14s 288us/step - loss: 1.0598 - acc: 0.6394 - val_loss: 1.4385 - val_acc: 0.5001\n",
      "Epoch 21/50\n",
      "50000/50000 [==============================] - 15s 301us/step - loss: 1.0395 - acc: 0.6463 - val_loss: 1.4327 - val_acc: 0.4959\n",
      "Epoch 22/50\n",
      "50000/50000 [==============================] - 15s 309us/step - loss: 1.0175 - acc: 0.6551 - val_loss: 1.4367 - val_acc: 0.5036\n",
      "Epoch 23/50\n",
      "50000/50000 [==============================] - 14s 283us/step - loss: 0.9972 - acc: 0.6607 - val_loss: 1.4496 - val_acc: 0.4970\n",
      "Epoch 24/50\n",
      "50000/50000 [==============================] - 13s 264us/step - loss: 0.9774 - acc: 0.6707 - val_loss: 1.4420 - val_acc: 0.4977\n",
      "Epoch 25/50\n",
      "50000/50000 [==============================] - 13s 262us/step - loss: 0.9565 - acc: 0.6793 - val_loss: 1.4608 - val_acc: 0.4891\n",
      "Epoch 26/50\n",
      "50000/50000 [==============================] - 12s 250us/step - loss: 0.9371 - acc: 0.6860 - val_loss: 1.4497 - val_acc: 0.5006\n",
      "Epoch 27/50\n",
      "50000/50000 [==============================] - 13s 261us/step - loss: 0.9159 - acc: 0.6946 - val_loss: 1.4540 - val_acc: 0.4937\n",
      "Epoch 28/50\n",
      "50000/50000 [==============================] - 13s 254us/step - loss: 0.8956 - acc: 0.7046 - val_loss: 1.4543 - val_acc: 0.5009\n",
      "Epoch 29/50\n",
      "50000/50000 [==============================] - 13s 258us/step - loss: 0.8774 - acc: 0.7105 - val_loss: 1.4534 - val_acc: 0.5007\n",
      "Epoch 30/50\n",
      "50000/50000 [==============================] - 12s 250us/step - loss: 0.8558 - acc: 0.7192 - val_loss: 1.4653 - val_acc: 0.4994\n",
      "Epoch 31/50\n",
      "50000/50000 [==============================] - 13s 267us/step - loss: 0.8365 - acc: 0.7277 - val_loss: 1.4799 - val_acc: 0.4969\n",
      "Epoch 32/50\n",
      "50000/50000 [==============================] - 12s 250us/step - loss: 0.8175 - acc: 0.7356 - val_loss: 1.4772 - val_acc: 0.4973\n",
      "Epoch 33/50\n",
      "50000/50000 [==============================] - 13s 260us/step - loss: 0.7983 - acc: 0.7415 - val_loss: 1.4729 - val_acc: 0.4990\n",
      "Epoch 34/50\n",
      "50000/50000 [==============================] - 13s 259us/step - loss: 0.7800 - acc: 0.7479 - val_loss: 1.4908 - val_acc: 0.4978\n",
      "Epoch 35/50\n",
      "50000/50000 [==============================] - 13s 256us/step - loss: 0.7604 - acc: 0.7570 - val_loss: 1.5067 - val_acc: 0.4998\n",
      "Epoch 36/50\n",
      "50000/50000 [==============================] - 13s 255us/step - loss: 0.7426 - acc: 0.7646 - val_loss: 1.4968 - val_acc: 0.5040\n",
      "Epoch 37/50\n",
      "50000/50000 [==============================] - 13s 251us/step - loss: 0.7226 - acc: 0.7730 - val_loss: 1.5211 - val_acc: 0.4994\n",
      "Epoch 38/50\n",
      "50000/50000 [==============================] - 12s 247us/step - loss: 0.7036 - acc: 0.7791 - val_loss: 1.5445 - val_acc: 0.4986\n",
      "Epoch 39/50\n",
      "50000/50000 [==============================] - 14s 274us/step - loss: 0.6846 - acc: 0.7871 - val_loss: 1.5404 - val_acc: 0.4915\n",
      "Epoch 40/50\n",
      "50000/50000 [==============================] - 13s 261us/step - loss: 0.6666 - acc: 0.7951 - val_loss: 1.5508 - val_acc: 0.4971\n",
      "Epoch 41/50\n",
      "50000/50000 [==============================] - 13s 257us/step - loss: 0.6502 - acc: 0.7989 - val_loss: 1.5558 - val_acc: 0.4976\n",
      "Epoch 42/50\n",
      "50000/50000 [==============================] - 13s 255us/step - loss: 0.6314 - acc: 0.8085 - val_loss: 1.5848 - val_acc: 0.4915\n",
      "Epoch 43/50\n",
      "50000/50000 [==============================] - 13s 267us/step - loss: 0.6131 - acc: 0.8141 - val_loss: 1.5635 - val_acc: 0.5006\n",
      "Epoch 44/50\n",
      "50000/50000 [==============================] - 13s 257us/step - loss: 0.5948 - acc: 0.8227 - val_loss: 1.5887 - val_acc: 0.4986\n",
      "Epoch 45/50\n",
      "50000/50000 [==============================] - 13s 257us/step - loss: 0.5770 - acc: 0.8293 - val_loss: 1.5797 - val_acc: 0.4930\n",
      "Epoch 46/50\n",
      "50000/50000 [==============================] - 13s 256us/step - loss: 0.5622 - acc: 0.8349 - val_loss: 1.5883 - val_acc: 0.4958\n",
      "Epoch 47/50\n",
      "50000/50000 [==============================] - 13s 256us/step - loss: 0.5445 - acc: 0.8420 - val_loss: 1.6079 - val_acc: 0.5002\n",
      "Epoch 48/50\n",
      "50000/50000 [==============================] - 13s 264us/step - loss: 0.5277 - acc: 0.8481 - val_loss: 1.6229 - val_acc: 0.4944\n",
      "Epoch 49/50\n",
      "50000/50000 [==============================] - 13s 256us/step - loss: 0.5130 - acc: 0.8542 - val_loss: 1.6357 - val_acc: 0.4902\n",
      "Epoch 50/50\n",
      "50000/50000 [==============================] - 13s 263us/step - loss: 0.4963 - acc: 0.8618 - val_loss: 1.6488 - val_acc: 0.4898\n"
     ]
    }
   ],
   "source": [
    "results = {}\n",
    "\"\"\"設定 callbacks: Earlystop\"\"\"\n",
    "from keras.callbacks import EarlyStopping\n",
    "\n",
    "earlystop = EarlyStopping(monitor=\"val_Accuracy\", \n",
    "                          patience=[10, 25], \n",
    "                          verbose=1\n",
    "                          )\n",
    "\n",
    "\"\"\"Code Here\n",
    "撰寫你的訓練流程並將結果用 dictionary 紀錄\n",
    "\"\"\"\n",
    "model = build_mlp(input_shape=x_train.shape[1:])\n",
    "model.summary()\n",
    "optimizer = keras.optimizers.SGD(lr=LEARNING_RATE, nesterov=True, momentum=MOMENTUM)\n",
    "model.compile(loss=\"categorical_crossentropy\", metrics=[\"accuracy\"], optimizer=optimizer)\n",
    "\n",
    "model.fit(x_train, y_train, \n",
    "          epochs=EPOCHS, \n",
    "          batch_size=BATCH_SIZE, \n",
    "          validation_data=(x_test, y_test), \n",
    "          shuffle=True,\n",
    "          callbacks=[earlystop]\n",
    "         )\n",
    "\n",
    "# Collect results\n",
    "train_loss = model.history.history[\"loss\"]\n",
    "valid_loss = model.history.history[\"val_loss\"]\n",
    "train_acc = model.history.history[\"acc\"]\n",
    "valid_acc = model.history.history[\"val_acc\"]\n"
   ]
  },
  {
   "cell_type": "code",
   "execution_count": 8,
   "metadata": {},
   "outputs": [
    {
     "data": {
      "image/png": "[encoded data removed]",
      "text/plain": [
       "<Figure size 432x288 with 1 Axes>"
      ]
     },
     "metadata": {
      "needs_background": "light"
     },
     "output_type": "display_data"
    },
    {
     "data": {
      "image/png": "[encoded data removed]",
      "text/plain": [
       "<Figure size 432x288 with 1 Axes>"
      ]
     },
     "metadata": {
      "needs_background": "light"
     },
     "output_type": "display_data"
    }
   ],
   "source": [
    "\"\"\"Code Here\n",
    "將結果繪出\n",
    "\"\"\"\n",
    "import matplotlib.pyplot as plt\n",
    "%matplotlib inline\n",
    "\n",
    "plt.plot(range(len(train_loss)), train_loss, label=\"train loss\")\n",
    "plt.plot(range(len(valid_loss)), valid_loss, label=\"valid loss\")\n",
    "plt.legend()\n",
    "plt.title(\"Loss\")\n",
    "plt.show()\n",
    "\n",
    "plt.plot(range(len(train_acc)), train_acc, label=\"train accuracy\")\n",
    "plt.plot(range(len(valid_acc)), valid_acc, label=\"valid accuracy\")\n",
    "plt.legend()\n",
    "plt.title(\"Accuracy\")\n",
    "plt.show() "
   ]
  },
  {
   "cell_type": "code",
   "execution_count": null,
   "metadata": {},
   "outputs": [],
   "source": []
  }
 ],
 "metadata": {
  "kernelspec": {
   "display_name": "Python 3",
   "language": "python",
   "name": "python3"
  },
  "language_info": {
   "codemirror_mode": {
    "name": "ipython",
    "version": 3
   },
   "file_extension": ".py",
   "mimetype": "text/x-python",
   "name": "python",
   "nbconvert_exporter": "python",
   "pygments_lexer": "ipython3",
   "version": "3.7.3"
  }
 },
 "nbformat": 4,
 "nbformat_minor": 2
}
