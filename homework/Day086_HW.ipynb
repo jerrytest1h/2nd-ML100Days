{
 "cells": [
  {
   "cell_type": "markdown",
   "metadata": {},
   "source": [
    "## Work\n",
    "1. 試比較 save_best_only 與否的差異\n",
    "2. 請僅存入將 save_weights_only 設定為 True, 並嘗試 reset ipynb 並將模型與權重重新建回並預測 x_test"
   ]
  },
  {
   "cell_type": "code",
   "execution_count": 1,
   "metadata": {},
   "outputs": [
    {
     "name": "stderr",
     "output_type": "stream",
     "text": [
      "Using TensorFlow backend.\n"
     ]
    }
   ],
   "source": [
    "import os\n",
    "import keras\n",
    "\n",
    "# Disable GPU\n",
    "os.environ[\"CUDA_VISIBLE_DEVICES\"] = \"\""
   ]
  },
  {
   "cell_type": "code",
   "execution_count": 2,
   "metadata": {},
   "outputs": [],
   "source": [
    "train, test = keras.datasets.cifar10.load_data()"
   ]
  },
  {
   "cell_type": "code",
   "execution_count": 3,
   "metadata": {},
   "outputs": [],
   "source": [
    "## 資料前處理\n",
    "def preproc_x(x, flatten=True):\n",
    "    x = x / 255.\n",
    "    if flatten:\n",
    "        x = x.reshape((len(x), -1))\n",
    "    return x\n",
    "\n",
    "def preproc_y(y, num_classes=10):\n",
    "    if y.shape[-1] == 1:\n",
    "        y = keras.utils.to_categorical(y, num_classes)\n",
    "    return y    "
   ]
  },
  {
   "cell_type": "code",
   "execution_count": 4,
   "metadata": {},
   "outputs": [],
   "source": [
    "x_train, y_train = train\n",
    "x_test, y_test = test\n",
    "\n",
    "# Preproc the inputs\n",
    "x_train = preproc_x(x_train)\n",
    "x_test = preproc_x(x_test)\n",
    "\n",
    "# Preprc the outputs\n",
    "y_train = preproc_y(y_train)\n",
    "y_test = preproc_y(y_test)"
   ]
  },
  {
   "cell_type": "code",
   "execution_count": 5,
   "metadata": {},
   "outputs": [],
   "source": [
    "from keras.layers import BatchNormalization\n",
    "\"\"\"\n",
    "建立神經網路，並加入 BN layer\n",
    "\"\"\"\n",
    "def build_mlp(input_shape, output_units=10, num_neurons=[512, 256, 128]):\n",
    "    input_layer = keras.layers.Input(input_shape)\n",
    "    \n",
    "    for i, n_units in enumerate(num_neurons):\n",
    "        if i == 0:\n",
    "            x = keras.layers.Dense(units=n_units, \n",
    "                                   activation=\"relu\", \n",
    "                                   name=\"hidden_layer\"+str(i+1))(input_layer)\n",
    "            x = BatchNormalization()(x)\n",
    "        else:\n",
    "            x = keras.layers.Dense(units=n_units, \n",
    "                                   activation=\"relu\", \n",
    "                                   name=\"hidden_layer\"+str(i+1))(x)\n",
    "            x = BatchNormalization()(x)\n",
    "    \n",
    "    out = keras.layers.Dense(units=output_units, activation=\"softmax\", name=\"output\")(x)\n",
    "    \n",
    "    model = keras.models.Model(inputs=[input_layer], outputs=[out])\n",
    "    return model"
   ]
  },
  {
   "cell_type": "code",
   "execution_count": 6,
   "metadata": {},
   "outputs": [],
   "source": [
    "\"\"\"Code Here\n",
    "設定超參數\n",
    "\"\"\"\n",
    "LEARNING_RATE = 1e-3\n",
    "EPOCHS = 50\n",
    "BATCH_SIZE = 1024\n",
    "MOMENTUM = 0.95"
   ]
  },
  {
   "cell_type": "code",
   "execution_count": 8,
   "metadata": {},
   "outputs": [
    {
     "name": "stderr",
     "output_type": "stream",
     "text": [
      "WARNING: Logging before flag parsing goes to stderr.\n",
      "W0722 20:14:26.187995 10864 deprecation_wrapper.py:119] From C:\\Users\\jerry\\Anaconda3\\lib\\site-packages\\keras\\backend\\tensorflow_backend.py:74: The name tf.get_default_graph is deprecated. Please use tf.compat.v1.get_default_graph instead.\n",
      "\n",
      "W0722 20:14:26.204948 10864 deprecation_wrapper.py:119] From C:\\Users\\jerry\\Anaconda3\\lib\\site-packages\\keras\\backend\\tensorflow_backend.py:517: The name tf.placeholder is deprecated. Please use tf.compat.v1.placeholder instead.\n",
      "\n",
      "W0722 20:14:26.206945 10864 deprecation_wrapper.py:119] From C:\\Users\\jerry\\Anaconda3\\lib\\site-packages\\keras\\backend\\tensorflow_backend.py:4138: The name tf.random_uniform is deprecated. Please use tf.random.uniform instead.\n",
      "\n",
      "W0722 20:14:26.267782 10864 deprecation_wrapper.py:119] From C:\\Users\\jerry\\Anaconda3\\lib\\site-packages\\keras\\backend\\tensorflow_backend.py:133: The name tf.placeholder_with_default is deprecated. Please use tf.compat.v1.placeholder_with_default instead.\n",
      "\n",
      "W0722 20:14:26.457273 10864 deprecation_wrapper.py:119] From C:\\Users\\jerry\\Anaconda3\\lib\\site-packages\\keras\\optimizers.py:790: The name tf.train.Optimizer is deprecated. Please use tf.compat.v1.train.Optimizer instead.\n",
      "\n",
      "W0722 20:14:26.462260 10864 deprecation_wrapper.py:119] From C:\\Users\\jerry\\Anaconda3\\lib\\site-packages\\keras\\backend\\tensorflow_backend.py:3295: The name tf.log is deprecated. Please use tf.math.log instead.\n",
      "\n",
      "W0722 20:14:26.530079 10864 deprecation.py:323] From C:\\Users\\jerry\\Anaconda3\\lib\\site-packages\\tensorflow\\python\\ops\\math_grad.py:1250: add_dispatch_support.<locals>.wrapper (from tensorflow.python.ops.array_ops) is deprecated and will be removed in a future version.\n",
      "Instructions for updating:\n",
      "Use tf.where in 2.0, which has the same broadcast rule as np.where\n"
     ]
    },
    {
     "name": "stdout",
     "output_type": "stream",
     "text": [
      "_________________________________________________________________\n",
      "Layer (type)                 Output Shape              Param #   \n",
      "=================================================================\n",
      "input_1 (InputLayer)         (None, 3072)              0         \n",
      "_________________________________________________________________\n",
      "hidden_layer1 (Dense)        (None, 512)               1573376   \n",
      "_________________________________________________________________\n",
      "batch_normalization_1 (Batch (None, 512)               2048      \n",
      "_________________________________________________________________\n",
      "hidden_layer2 (Dense)        (None, 256)               131328    \n",
      "_________________________________________________________________\n",
      "batch_normalization_2 (Batch (None, 256)               1024      \n",
      "_________________________________________________________________\n",
      "hidden_layer3 (Dense)        (None, 128)               32896     \n",
      "_________________________________________________________________\n",
      "batch_normalization_3 (Batch (None, 128)               512       \n",
      "_________________________________________________________________\n",
      "output (Dense)               (None, 10)                1290      \n",
      "=================================================================\n",
      "Total params: 1,742,474\n",
      "Trainable params: 1,740,682\n",
      "Non-trainable params: 1,792\n",
      "_________________________________________________________________\n",
      "Train on 50000 samples, validate on 10000 samples\n",
      "Epoch 1/50\n",
      "50000/50000 [==============================] - 5s 95us/step - loss: 2.2528 - acc: 0.2672 - val_loss: 2.1431 - val_acc: 0.3293\n",
      "Epoch 2/50\n",
      "50000/50000 [==============================] - 4s 81us/step - loss: 1.7489 - acc: 0.3902 - val_loss: 1.8232 - val_acc: 0.3811\n",
      "Epoch 3/50\n",
      "50000/50000 [==============================] - 4s 76us/step - loss: 1.6189 - acc: 0.4347 - val_loss: 1.6703 - val_acc: 0.4157\n",
      "Epoch 4/50\n",
      "50000/50000 [==============================] - 4s 78us/step - loss: 1.5463 - acc: 0.4617 - val_loss: 1.6129 - val_acc: 0.4366\n",
      "Epoch 5/50\n",
      "50000/50000 [==============================] - 4s 76us/step - loss: 1.4899 - acc: 0.4816 - val_loss: 1.5897 - val_acc: 0.4461\n",
      "Epoch 6/50\n",
      "50000/50000 [==============================] - 4s 87us/step - loss: 1.4447 - acc: 0.4959 - val_loss: 1.5525 - val_acc: 0.4548\n",
      "Epoch 7/50\n",
      "50000/50000 [==============================] - 4s 75us/step - loss: 1.4060 - acc: 0.5093 - val_loss: 1.5284 - val_acc: 0.4675\n",
      "Epoch 8/50\n",
      "50000/50000 [==============================] - 4s 75us/step - loss: 1.3691 - acc: 0.5234 - val_loss: 1.5347 - val_acc: 0.4570\n",
      "Epoch 9/50\n",
      "50000/50000 [==============================] - 4s 87us/step - loss: 1.3372 - acc: 0.5350 - val_loss: 1.5183 - val_acc: 0.4700\n",
      "Epoch 10/50\n",
      "50000/50000 [==============================] - 4s 84us/step - loss: 1.3070 - acc: 0.5459 - val_loss: 1.4951 - val_acc: 0.4776\n",
      "Epoch 11/50\n",
      "50000/50000 [==============================] - 4s 89us/step - loss: 1.2798 - acc: 0.5550 - val_loss: 1.4839 - val_acc: 0.4857\n",
      "Epoch 12/50\n",
      "50000/50000 [==============================] - 4s 79us/step - loss: 1.2500 - acc: 0.5693 - val_loss: 1.4704 - val_acc: 0.4859\n",
      "Epoch 13/50\n",
      "50000/50000 [==============================] - 4s 82us/step - loss: 1.2233 - acc: 0.5771 - val_loss: 1.4695 - val_acc: 0.4880\n",
      "Epoch 14/50\n",
      "50000/50000 [==============================] - 4s 80us/step - loss: 1.1999 - acc: 0.5847 - val_loss: 1.4661 - val_acc: 0.4871\n",
      "Epoch 15/50\n",
      "50000/50000 [==============================] - 4s 78us/step - loss: 1.1770 - acc: 0.5944 - val_loss: 1.4670 - val_acc: 0.4888\n",
      "Epoch 16/50\n",
      "50000/50000 [==============================] - 4s 88us/step - loss: 1.1512 - acc: 0.6040 - val_loss: 1.4631 - val_acc: 0.4927\n",
      "Epoch 17/50\n",
      "50000/50000 [==============================] - 4s 83us/step - loss: 1.1291 - acc: 0.6117 - val_loss: 1.4587 - val_acc: 0.4907\n",
      "Epoch 18/50\n",
      "50000/50000 [==============================] - 4s 74us/step - loss: 1.1055 - acc: 0.6210 - val_loss: 1.4604 - val_acc: 0.4924\n",
      "Epoch 19/50\n",
      "50000/50000 [==============================] - 4s 74us/step - loss: 1.0829 - acc: 0.6292 - val_loss: 1.4597 - val_acc: 0.4910\n",
      "Epoch 20/50\n",
      "50000/50000 [==============================] - 4s 79us/step - loss: 1.0628 - acc: 0.6378 - val_loss: 1.4473 - val_acc: 0.4960\n",
      "Epoch 21/50\n",
      "50000/50000 [==============================] - 5s 93us/step - loss: 1.0388 - acc: 0.6455 - val_loss: 1.4574 - val_acc: 0.4963\n",
      "Epoch 22/50\n",
      "50000/50000 [==============================] - 5s 97us/step - loss: 1.0194 - acc: 0.6534 - val_loss: 1.4683 - val_acc: 0.4915\n",
      "Epoch 23/50\n",
      "50000/50000 [==============================] - 7s 139us/step - loss: 0.9986 - acc: 0.6613 - val_loss: 1.4613 - val_acc: 0.4947\n",
      "Epoch 24/50\n",
      "50000/50000 [==============================] - 4s 82us/step - loss: 0.9772 - acc: 0.6697 - val_loss: 1.4653 - val_acc: 0.4991\n",
      "Epoch 25/50\n",
      "50000/50000 [==============================] - 4s 84us/step - loss: 0.9564 - acc: 0.6763 - val_loss: 1.4493 - val_acc: 0.5017\n",
      "Epoch 26/50\n",
      "50000/50000 [==============================] - 5s 97us/step - loss: 0.9351 - acc: 0.6865 - val_loss: 1.4692 - val_acc: 0.4982\n",
      "Epoch 27/50\n",
      "50000/50000 [==============================] - 5s 104us/step - loss: 0.9163 - acc: 0.6936 - val_loss: 1.4800 - val_acc: 0.4974\n",
      "Epoch 28/50\n",
      "50000/50000 [==============================] - 5s 102us/step - loss: 0.8948 - acc: 0.7027 - val_loss: 1.4767 - val_acc: 0.4956\n",
      "Epoch 29/50\n",
      "50000/50000 [==============================] - 6s 116us/step - loss: 0.8752 - acc: 0.7100 - val_loss: 1.4895 - val_acc: 0.4987\n",
      "Epoch 30/50\n",
      "50000/50000 [==============================] - 5s 90us/step - loss: 0.8537 - acc: 0.7179 - val_loss: 1.4814 - val_acc: 0.4984\n",
      "Epoch 31/50\n",
      "50000/50000 [==============================] - 5s 107us/step - loss: 0.8354 - acc: 0.7245 - val_loss: 1.4844 - val_acc: 0.5011\n",
      "Epoch 32/50\n",
      "50000/50000 [==============================] - 5s 109us/step - loss: 0.8146 - acc: 0.7332 - val_loss: 1.4943 - val_acc: 0.5000\n",
      "Epoch 33/50\n",
      "50000/50000 [==============================] - 4s 81us/step - loss: 0.7965 - acc: 0.7374 - val_loss: 1.4968 - val_acc: 0.4994\n",
      "Epoch 34/50\n",
      "50000/50000 [==============================] - 4s 76us/step - loss: 0.7790 - acc: 0.7488 - val_loss: 1.5054 - val_acc: 0.4981\n",
      "Epoch 35/50\n",
      "50000/50000 [==============================] - 5s 96us/step - loss: 0.7575 - acc: 0.7556 - val_loss: 1.5129 - val_acc: 0.5028\n",
      "Epoch 36/50\n",
      "50000/50000 [==============================] - 5s 91us/step - loss: 0.7381 - acc: 0.7623 - val_loss: 1.5272 - val_acc: 0.4984\n",
      "Epoch 37/50\n",
      "50000/50000 [==============================] - 5s 103us/step - loss: 0.7193 - acc: 0.7696 - val_loss: 1.5350 - val_acc: 0.4985\n",
      "Epoch 38/50\n",
      "50000/50000 [==============================] - 6s 112us/step - loss: 0.7003 - acc: 0.7783 - val_loss: 1.5279 - val_acc: 0.5007\n",
      "Epoch 39/50\n",
      "50000/50000 [==============================] - 5s 109us/step - loss: 0.6829 - acc: 0.7837 - val_loss: 1.5432 - val_acc: 0.4990\n",
      "Epoch 40/50\n",
      "50000/50000 [==============================] - 6s 117us/step - loss: 0.6643 - acc: 0.7931 - val_loss: 1.5467 - val_acc: 0.4957\n",
      "Epoch 41/50\n",
      "50000/50000 [==============================] - 5s 105us/step - loss: 0.6472 - acc: 0.8023 - val_loss: 1.5705 - val_acc: 0.4900\n",
      "Epoch 42/50\n",
      "50000/50000 [==============================] - 5s 103us/step - loss: 0.6266 - acc: 0.8084 - val_loss: 1.5787 - val_acc: 0.4935\n",
      "Epoch 43/50\n",
      "50000/50000 [==============================] - 5s 110us/step - loss: 0.6086 - acc: 0.8149 - val_loss: 1.5900 - val_acc: 0.4934\n",
      "Epoch 44/50\n",
      "50000/50000 [==============================] - 5s 103us/step - loss: 0.5950 - acc: 0.8209 - val_loss: 1.5980 - val_acc: 0.4928\n",
      "Epoch 45/50\n",
      "50000/50000 [==============================] - 5s 104us/step - loss: 0.5757 - acc: 0.8280 - val_loss: 1.6074 - val_acc: 0.4964\n",
      "Epoch 46/50\n",
      "50000/50000 [==============================] - 6s 118us/step - loss: 0.5592 - acc: 0.8355 - val_loss: 1.6033 - val_acc: 0.4985\n",
      "Epoch 47/50\n",
      "50000/50000 [==============================] - 5s 103us/step - loss: 0.5409 - acc: 0.8426 - val_loss: 1.6466 - val_acc: 0.4937\n",
      "Epoch 48/50\n",
      "50000/50000 [==============================] - 5s 110us/step - loss: 0.5245 - acc: 0.8504 - val_loss: 1.6517 - val_acc: 0.4862\n",
      "Epoch 49/50\n",
      "50000/50000 [==============================] - 4s 79us/step - loss: 0.5091 - acc: 0.8556 - val_loss: 1.6688 - val_acc: 0.4950\n"
     ]
    },
    {
     "name": "stdout",
     "output_type": "stream",
     "text": [
      "Epoch 50/50\n",
      "50000/50000 [==============================] - 4s 80us/step - loss: 0.4928 - acc: 0.8630 - val_loss: 1.6794 - val_acc: 0.4882\n",
      "10000/10000 [==============================] - 1s 112us/step\n"
     ]
    }
   ],
   "source": [
    "# 載入 Callbacks\n",
    "\"\"\"Code Here\n",
    "設定 callbacks: model checkpoint\n",
    "\"\"\"\n",
    "from keras.callbacks import ModelCheckpoint\n",
    "\n",
    "model_ckpt = ModelCheckpoint(filepath=\"./tmp.h5\", \n",
    "                             monitor=\"val_loss\", \n",
    "                             save_best_only=False)\n",
    "\n",
    "results = {}\n",
    "\"\"\"Code Here\n",
    "撰寫你的訓練流程並將結果用 dictionary 紀錄\n",
    "\"\"\"\n",
    "model = build_mlp(input_shape=x_train.shape[1:])\n",
    "model.summary()\n",
    "optimizer = keras.optimizers.SGD(lr=LEARNING_RATE, nesterov=True, momentum=MOMENTUM)\n",
    "model.compile(loss=\"categorical_crossentropy\", metrics=[\"accuracy\"], optimizer=optimizer)\n",
    "\n",
    "model.fit(x_train, y_train, \n",
    "          epochs=EPOCHS, \n",
    "          batch_size=BATCH_SIZE, \n",
    "          validation_data=(x_test, y_test), \n",
    "          shuffle=True,\n",
    "          callbacks=[model_ckpt]\n",
    "         )\n",
    "\n",
    "# Collect results\n",
    "train_loss = model.history.history[\"loss\"]\n",
    "valid_loss = model.history.history[\"val_loss\"]\n",
    "train_acc = model.history.history[\"acc\"]\n",
    "valid_acc = model.history.history[\"val_acc\"]\n",
    "\n",
    "# Load back\n",
    "model = keras.models.load_model(\"./tmp.h5\")\n",
    "loss_loadback, acc_loadback = model.evaluate(x_test, y_test)                             "
   ]
  },
  {
   "cell_type": "code",
   "execution_count": 9,
   "metadata": {
    "scrolled": true
   },
   "outputs": [
    {
     "data": {
      "image/png": "[encoded data removed]",
      "text/plain": [
       "<Figure size 432x288 with 1 Axes>"
      ]
     },
     "metadata": {
      "needs_background": "light"
     },
     "output_type": "display_data"
    },
    {
     "data": {
      "image/png": "[encoded data removed]",
      "text/plain": [
       "<Figure size 432x288 with 1 Axes>"
      ]
     },
     "metadata": {
      "needs_background": "light"
     },
     "output_type": "display_data"
    }
   ],
   "source": [
    "import matplotlib.pyplot as plt\n",
    "%matplotlib inline\n",
    "\"\"\"Code Here\n",
    "將結果繪出\n",
    "\"\"\"\n",
    "plt.plot(range(len(train_loss)), train_loss, label=\"train loss\")\n",
    "plt.plot(range(len(valid_loss)), valid_loss, label=\"valid loss\")\n",
    "plt.hlines(y=loss_loadback, xmin=0, xmax=len(train_loss), colors='r', linestyles='--')\n",
    "plt.legend()\n",
    "plt.title(\"Loss\")\n",
    "plt.show()\n",
    "\n",
    "plt.plot(range(len(train_acc)), train_acc, label=\"train accuracy\")\n",
    "plt.plot(range(len(valid_acc)), valid_acc, label=\"valid accuracy\")\n",
    "plt.hlines(y=acc_loadback, xmin=0, xmax=len(train_loss), colors='r', linestyles='--')\n",
    "plt.legend()\n",
    "plt.title(\"Accuracy\")\n",
    "plt.show()"
   ]
  },
  {
   "cell_type": "code",
   "execution_count": null,
   "metadata": {},
   "outputs": [],
   "source": []
  },
  {
   "cell_type": "code",
   "execution_count": 11,
   "metadata": {},
   "outputs": [
    {
     "name": "stdout",
     "output_type": "stream",
     "text": [
      "_________________________________________________________________\n",
      "Layer (type)                 Output Shape              Param #   \n",
      "=================================================================\n",
      "input_3 (InputLayer)         (None, 3072)              0         \n",
      "_________________________________________________________________\n",
      "hidden_layer1 (Dense)        (None, 512)               1573376   \n",
      "_________________________________________________________________\n",
      "batch_normalization_7 (Batch (None, 512)               2048      \n",
      "_________________________________________________________________\n",
      "hidden_layer2 (Dense)        (None, 256)               131328    \n",
      "_________________________________________________________________\n",
      "batch_normalization_8 (Batch (None, 256)               1024      \n",
      "_________________________________________________________________\n",
      "hidden_layer3 (Dense)        (None, 128)               32896     \n",
      "_________________________________________________________________\n",
      "batch_normalization_9 (Batch (None, 128)               512       \n",
      "_________________________________________________________________\n",
      "output (Dense)               (None, 10)                1290      \n",
      "=================================================================\n",
      "Total params: 1,742,474\n",
      "Trainable params: 1,740,682\n",
      "Non-trainable params: 1,792\n",
      "_________________________________________________________________\n",
      "Train on 50000 samples, validate on 10000 samples\n",
      "Epoch 1/50\n",
      "50000/50000 [==============================] - 5s 97us/step - loss: 2.2106 - acc: 0.2648 - val_loss: 2.1492 - val_acc: 0.3108\n",
      "Epoch 2/50\n",
      "50000/50000 [==============================] - 4s 86us/step - loss: 1.7476 - acc: 0.3926 - val_loss: 1.8321 - val_acc: 0.3737\n",
      "Epoch 3/50\n",
      "50000/50000 [==============================] - 5s 93us/step - loss: 1.6252 - acc: 0.4356 - val_loss: 1.7145 - val_acc: 0.4069\n",
      "Epoch 4/50\n",
      "50000/50000 [==============================] - 4s 84us/step - loss: 1.5516 - acc: 0.4600 - val_loss: 1.6373 - val_acc: 0.4336\n",
      "Epoch 5/50\n",
      "50000/50000 [==============================] - 6s 113us/step - loss: 1.4951 - acc: 0.4790 - val_loss: 1.6005 - val_acc: 0.4415\n",
      "Epoch 6/50\n",
      "50000/50000 [==============================] - 7s 131us/step - loss: 1.4486 - acc: 0.4948 - val_loss: 1.5759 - val_acc: 0.4442\n",
      "Epoch 7/50\n",
      "50000/50000 [==============================] - 5s 107us/step - loss: 1.4100 - acc: 0.5083 - val_loss: 1.5868 - val_acc: 0.4422\n",
      "Epoch 8/50\n",
      "50000/50000 [==============================] - 6s 118us/step - loss: 1.3727 - acc: 0.5216 - val_loss: 1.5269 - val_acc: 0.4670\n",
      "Epoch 9/50\n",
      "50000/50000 [==============================] - 5s 100us/step - loss: 1.3389 - acc: 0.5343 - val_loss: 1.5150 - val_acc: 0.4656\n",
      "Epoch 10/50\n",
      "50000/50000 [==============================] - 5s 90us/step - loss: 1.3067 - acc: 0.5469 - val_loss: 1.5116 - val_acc: 0.4709\n",
      "Epoch 11/50\n",
      "50000/50000 [==============================] - 5s 96us/step - loss: 1.2788 - acc: 0.5583 - val_loss: 1.5012 - val_acc: 0.4726\n",
      "Epoch 12/50\n",
      "50000/50000 [==============================] - 5s 99us/step - loss: 1.2494 - acc: 0.5668 - val_loss: 1.4888 - val_acc: 0.4805\n",
      "Epoch 13/50\n",
      "50000/50000 [==============================] - 5s 91us/step - loss: 1.2229 - acc: 0.5781 - val_loss: 1.4772 - val_acc: 0.4845\n",
      "Epoch 14/50\n",
      "50000/50000 [==============================] - 4s 78us/step - loss: 1.1962 - acc: 0.5893 - val_loss: 1.4681 - val_acc: 0.4856\n",
      "Epoch 15/50\n",
      "50000/50000 [==============================] - 4s 87us/step - loss: 1.1710 - acc: 0.5987 - val_loss: 1.4744 - val_acc: 0.4833\n",
      "Epoch 16/50\n",
      "50000/50000 [==============================] - 4s 78us/step - loss: 1.1465 - acc: 0.6067 - val_loss: 1.4626 - val_acc: 0.4835\n",
      "Epoch 17/50\n",
      "50000/50000 [==============================] - 4s 78us/step - loss: 1.1235 - acc: 0.6154 - val_loss: 1.4643 - val_acc: 0.4917\n",
      "Epoch 18/50\n",
      "50000/50000 [==============================] - 4s 85us/step - loss: 1.0991 - acc: 0.6255 - val_loss: 1.4611 - val_acc: 0.4895\n",
      "Epoch 19/50\n",
      "50000/50000 [==============================] - 4s 82us/step - loss: 1.0752 - acc: 0.6338 - val_loss: 1.4674 - val_acc: 0.4910\n",
      "Epoch 20/50\n",
      "50000/50000 [==============================] - 4s 80us/step - loss: 1.0538 - acc: 0.6423 - val_loss: 1.4632 - val_acc: 0.4920\n",
      "Epoch 21/50\n",
      "50000/50000 [==============================] - 4s 79us/step - loss: 1.0323 - acc: 0.6500 - val_loss: 1.4571 - val_acc: 0.4963\n",
      "Epoch 22/50\n",
      "50000/50000 [==============================] - 4s 79us/step - loss: 1.0097 - acc: 0.6592 - val_loss: 1.4643 - val_acc: 0.4920\n",
      "Epoch 23/50\n",
      "50000/50000 [==============================] - 4s 79us/step - loss: 0.9886 - acc: 0.6667 - val_loss: 1.4686 - val_acc: 0.4959\n",
      "Epoch 24/50\n",
      "50000/50000 [==============================] - 4s 88us/step - loss: 0.9673 - acc: 0.6744 - val_loss: 1.4625 - val_acc: 0.4950\n",
      "Epoch 25/50\n",
      "50000/50000 [==============================] - 5s 98us/step - loss: 0.9448 - acc: 0.6826 - val_loss: 1.4748 - val_acc: 0.4891\n",
      "Epoch 26/50\n",
      "50000/50000 [==============================] - 4s 81us/step - loss: 0.9250 - acc: 0.6910 - val_loss: 1.4717 - val_acc: 0.4940\n",
      "Epoch 27/50\n",
      "50000/50000 [==============================] - 4s 83us/step - loss: 0.9030 - acc: 0.7009 - val_loss: 1.4858 - val_acc: 0.4916\n",
      "Epoch 28/50\n",
      "50000/50000 [==============================] - 4s 79us/step - loss: 0.8826 - acc: 0.7078 - val_loss: 1.4888 - val_acc: 0.4969\n",
      "Epoch 29/50\n",
      "50000/50000 [==============================] - 4s 75us/step - loss: 0.8616 - acc: 0.7155 - val_loss: 1.4878 - val_acc: 0.4946\n",
      "Epoch 30/50\n",
      "50000/50000 [==============================] - 4s 76us/step - loss: 0.8417 - acc: 0.7235 - val_loss: 1.4987 - val_acc: 0.4902\n",
      "Epoch 31/50\n",
      "50000/50000 [==============================] - 4s 75us/step - loss: 0.8202 - acc: 0.7313 - val_loss: 1.4981 - val_acc: 0.4962\n",
      "Epoch 32/50\n",
      "50000/50000 [==============================] - 4s 77us/step - loss: 0.8011 - acc: 0.7397 - val_loss: 1.5113 - val_acc: 0.4918\n",
      "Epoch 33/50\n",
      "50000/50000 [==============================] - 5s 95us/step - loss: 0.7792 - acc: 0.7484 - val_loss: 1.5107 - val_acc: 0.4914\n",
      "Epoch 34/50\n",
      "50000/50000 [==============================] - 4s 85us/step - loss: 0.7601 - acc: 0.7540 - val_loss: 1.5337 - val_acc: 0.4874\n",
      "Epoch 35/50\n",
      "50000/50000 [==============================] - 5s 91us/step - loss: 0.7417 - acc: 0.7620 - val_loss: 1.5295 - val_acc: 0.4885\n",
      "Epoch 36/50\n",
      "50000/50000 [==============================] - 4s 81us/step - loss: 0.7214 - acc: 0.7695 - val_loss: 1.5473 - val_acc: 0.4889\n",
      "Epoch 37/50\n",
      "50000/50000 [==============================] - 4s 83us/step - loss: 0.6994 - acc: 0.7811 - val_loss: 1.5376 - val_acc: 0.4912\n",
      "Epoch 38/50\n",
      "50000/50000 [==============================] - 4s 87us/step - loss: 0.6809 - acc: 0.7876 - val_loss: 1.5463 - val_acc: 0.4932\n",
      "Epoch 39/50\n",
      "50000/50000 [==============================] - 4s 87us/step - loss: 0.6629 - acc: 0.7949 - val_loss: 1.5561 - val_acc: 0.4982\n",
      "Epoch 40/50\n",
      "50000/50000 [==============================] - 4s 84us/step - loss: 0.6464 - acc: 0.8000 - val_loss: 1.5687 - val_acc: 0.4971\n",
      "Epoch 41/50\n",
      "50000/50000 [==============================] - 4s 82us/step - loss: 0.6262 - acc: 0.8089 - val_loss: 1.6016 - val_acc: 0.4881\n",
      "Epoch 42/50\n",
      "50000/50000 [==============================] - 4s 88us/step - loss: 0.6108 - acc: 0.8150 - val_loss: 1.5908 - val_acc: 0.4940\n",
      "Epoch 43/50\n",
      "50000/50000 [==============================] - 4s 83us/step - loss: 0.5893 - acc: 0.8242 - val_loss: 1.6085 - val_acc: 0.4916\n",
      "Epoch 44/50\n",
      "50000/50000 [==============================] - 4s 80us/step - loss: 0.5737 - acc: 0.8281 - val_loss: 1.6272 - val_acc: 0.4887\n",
      "Epoch 45/50\n",
      "50000/50000 [==============================] - 4s 84us/step - loss: 0.5529 - acc: 0.8379 - val_loss: 1.6237 - val_acc: 0.4921\n",
      "Epoch 46/50\n",
      "50000/50000 [==============================] - 4s 88us/step - loss: 0.5353 - acc: 0.8456 - val_loss: 1.6418 - val_acc: 0.4964\n",
      "Epoch 47/50\n",
      "50000/50000 [==============================] - 5s 92us/step - loss: 0.5216 - acc: 0.8511 - val_loss: 1.6659 - val_acc: 0.4882\n",
      "Epoch 48/50\n",
      "50000/50000 [==============================] - 5s 92us/step - loss: 0.5029 - acc: 0.8566 - val_loss: 1.6813 - val_acc: 0.4905\n",
      "Epoch 49/50\n",
      "50000/50000 [==============================] - 4s 81us/step - loss: 0.4864 - acc: 0.8637 - val_loss: 1.7095 - val_acc: 0.4864\n"
     ]
    },
    {
     "name": "stdout",
     "output_type": "stream",
     "text": [
      "Epoch 50/50\n",
      "50000/50000 [==============================] - 4s 79us/step - loss: 0.4706 - acc: 0.8693 - val_loss: 1.6972 - val_acc: 0.4864\n"
     ]
    },
    {
     "ename": "ValueError",
     "evalue": "Cannot create group in read only mode.",
     "output_type": "error",
     "traceback": [
      "\u001b[1;31m---------------------------------------------------------------------------\u001b[0m",
      "\u001b[1;31mValueError\u001b[0m                                Traceback (most recent call last)",
      "\u001b[1;32m<ipython-input-11-f212d8bd5686>\u001b[0m in \u001b[0;36m<module>\u001b[1;34m\u001b[0m\n\u001b[0;32m     34\u001b[0m \u001b[1;33m\u001b[0m\u001b[0m\n\u001b[0;32m     35\u001b[0m \u001b[1;31m# Load back\u001b[0m\u001b[1;33m\u001b[0m\u001b[1;33m\u001b[0m\u001b[1;33m\u001b[0m\u001b[0m\n\u001b[1;32m---> 36\u001b[1;33m \u001b[0mmodel\u001b[0m \u001b[1;33m=\u001b[0m \u001b[0mkeras\u001b[0m\u001b[1;33m.\u001b[0m\u001b[0mmodels\u001b[0m\u001b[1;33m.\u001b[0m\u001b[0mload_model\u001b[0m\u001b[1;33m(\u001b[0m\u001b[1;34m\"./tmp2.h5\"\u001b[0m\u001b[1;33m)\u001b[0m\u001b[1;33m\u001b[0m\u001b[1;33m\u001b[0m\u001b[0m\n\u001b[0m\u001b[0;32m     37\u001b[0m \u001b[0mloss_loadback\u001b[0m\u001b[1;33m,\u001b[0m \u001b[0macc_loadback\u001b[0m \u001b[1;33m=\u001b[0m \u001b[0mmodel\u001b[0m\u001b[1;33m.\u001b[0m\u001b[0mevaluate\u001b[0m\u001b[1;33m(\u001b[0m\u001b[0mx_test\u001b[0m\u001b[1;33m,\u001b[0m \u001b[0my_test\u001b[0m\u001b[1;33m)\u001b[0m\u001b[1;33m\u001b[0m\u001b[1;33m\u001b[0m\u001b[0m\n",
      "\u001b[1;32m~\\Anaconda3\\lib\\site-packages\\keras\\engine\\saving.py\u001b[0m in \u001b[0;36mload_model\u001b[1;34m(filepath, custom_objects, compile)\u001b[0m\n\u001b[0;32m    417\u001b[0m     \u001b[0mf\u001b[0m \u001b[1;33m=\u001b[0m \u001b[0mh5dict\u001b[0m\u001b[1;33m(\u001b[0m\u001b[0mfilepath\u001b[0m\u001b[1;33m,\u001b[0m \u001b[1;34m'r'\u001b[0m\u001b[1;33m)\u001b[0m\u001b[1;33m\u001b[0m\u001b[1;33m\u001b[0m\u001b[0m\n\u001b[0;32m    418\u001b[0m     \u001b[1;32mtry\u001b[0m\u001b[1;33m:\u001b[0m\u001b[1;33m\u001b[0m\u001b[1;33m\u001b[0m\u001b[0m\n\u001b[1;32m--> 419\u001b[1;33m         \u001b[0mmodel\u001b[0m \u001b[1;33m=\u001b[0m \u001b[0m_deserialize_model\u001b[0m\u001b[1;33m(\u001b[0m\u001b[0mf\u001b[0m\u001b[1;33m,\u001b[0m \u001b[0mcustom_objects\u001b[0m\u001b[1;33m,\u001b[0m \u001b[0mcompile\u001b[0m\u001b[1;33m)\u001b[0m\u001b[1;33m\u001b[0m\u001b[1;33m\u001b[0m\u001b[0m\n\u001b[0m\u001b[0;32m    420\u001b[0m     \u001b[1;32mfinally\u001b[0m\u001b[1;33m:\u001b[0m\u001b[1;33m\u001b[0m\u001b[1;33m\u001b[0m\u001b[0m\n\u001b[0;32m    421\u001b[0m         \u001b[1;32mif\u001b[0m \u001b[0mopened_new_file\u001b[0m\u001b[1;33m:\u001b[0m\u001b[1;33m\u001b[0m\u001b[1;33m\u001b[0m\u001b[0m\n",
      "\u001b[1;32m~\\Anaconda3\\lib\\site-packages\\keras\\engine\\saving.py\u001b[0m in \u001b[0;36m_deserialize_model\u001b[1;34m(f, custom_objects, compile)\u001b[0m\n\u001b[0;32m    219\u001b[0m         \u001b[1;32mreturn\u001b[0m \u001b[0mobj\u001b[0m\u001b[1;33m\u001b[0m\u001b[1;33m\u001b[0m\u001b[0m\n\u001b[0;32m    220\u001b[0m \u001b[1;33m\u001b[0m\u001b[0m\n\u001b[1;32m--> 221\u001b[1;33m     \u001b[0mmodel_config\u001b[0m \u001b[1;33m=\u001b[0m \u001b[0mf\u001b[0m\u001b[1;33m[\u001b[0m\u001b[1;34m'model_config'\u001b[0m\u001b[1;33m]\u001b[0m\u001b[1;33m\u001b[0m\u001b[1;33m\u001b[0m\u001b[0m\n\u001b[0m\u001b[0;32m    222\u001b[0m     \u001b[1;32mif\u001b[0m \u001b[0mmodel_config\u001b[0m \u001b[1;32mis\u001b[0m \u001b[1;32mNone\u001b[0m\u001b[1;33m:\u001b[0m\u001b[1;33m\u001b[0m\u001b[1;33m\u001b[0m\u001b[0m\n\u001b[0;32m    223\u001b[0m         \u001b[1;32mraise\u001b[0m \u001b[0mValueError\u001b[0m\u001b[1;33m(\u001b[0m\u001b[1;34m'No model found in config.'\u001b[0m\u001b[1;33m)\u001b[0m\u001b[1;33m\u001b[0m\u001b[1;33m\u001b[0m\u001b[0m\n",
      "\u001b[1;32m~\\Anaconda3\\lib\\site-packages\\keras\\utils\\io_utils.py\u001b[0m in \u001b[0;36m__getitem__\u001b[1;34m(self, attr)\u001b[0m\n\u001b[0;32m    300\u001b[0m             \u001b[1;32melse\u001b[0m\u001b[1;33m:\u001b[0m\u001b[1;33m\u001b[0m\u001b[1;33m\u001b[0m\u001b[0m\n\u001b[0;32m    301\u001b[0m                 \u001b[1;32mif\u001b[0m \u001b[0mself\u001b[0m\u001b[1;33m.\u001b[0m\u001b[0mread_only\u001b[0m\u001b[1;33m:\u001b[0m\u001b[1;33m\u001b[0m\u001b[1;33m\u001b[0m\u001b[0m\n\u001b[1;32m--> 302\u001b[1;33m                     \u001b[1;32mraise\u001b[0m \u001b[0mValueError\u001b[0m\u001b[1;33m(\u001b[0m\u001b[1;34m'Cannot create group in read only mode.'\u001b[0m\u001b[1;33m)\u001b[0m\u001b[1;33m\u001b[0m\u001b[1;33m\u001b[0m\u001b[0m\n\u001b[0m\u001b[0;32m    303\u001b[0m                 \u001b[0mval\u001b[0m \u001b[1;33m=\u001b[0m \u001b[0mH5Dict\u001b[0m\u001b[1;33m(\u001b[0m\u001b[0mself\u001b[0m\u001b[1;33m.\u001b[0m\u001b[0mdata\u001b[0m\u001b[1;33m.\u001b[0m\u001b[0mcreate_group\u001b[0m\u001b[1;33m(\u001b[0m\u001b[0mattr\u001b[0m\u001b[1;33m)\u001b[0m\u001b[1;33m)\u001b[0m\u001b[1;33m\u001b[0m\u001b[1;33m\u001b[0m\u001b[0m\n\u001b[0;32m    304\u001b[0m         \u001b[1;32mreturn\u001b[0m \u001b[0mval\u001b[0m\u001b[1;33m\u001b[0m\u001b[1;33m\u001b[0m\u001b[0m\n",
      "\u001b[1;31mValueError\u001b[0m: Cannot create group in read only mode."
     ]
    }
   ],
   "source": [
    "# 載入 Callbacks\n",
    "\"\"\"Code Here\n",
    "設定 callbacks: model checkpoint\n",
    "\"\"\"\n",
    "from keras.callbacks import ModelCheckpoint\n",
    "\n",
    "model_ckpt2 = ModelCheckpoint(filepath=\"./tmp2.h5\", \n",
    "                             monitor=\"val_loss\", \n",
    "                             save_weights_only=True\n",
    "                            )\n",
    "\n",
    "results = {}\n",
    "\"\"\"Code Here\n",
    "撰寫你的訓練流程並將結果用 dictionary 紀錄\n",
    "\"\"\"\n",
    "model = build_mlp(input_shape=x_train.shape[1:])\n",
    "model.summary()\n",
    "optimizer = keras.optimizers.SGD(lr=LEARNING_RATE, nesterov=True, momentum=MOMENTUM)\n",
    "model.compile(loss=\"categorical_crossentropy\", metrics=[\"accuracy\"], optimizer=optimizer)\n",
    "\n",
    "model.fit(x_train, y_train, \n",
    "          epochs=EPOCHS, \n",
    "          batch_size=BATCH_SIZE, \n",
    "          validation_data=(x_test, y_test), \n",
    "          shuffle=True,\n",
    "          callbacks=[model_ckpt2]\n",
    "         )\n",
    "\n",
    "# Collect results\n",
    "train_loss = model.history.history[\"loss\"]\n",
    "valid_loss = model.history.history[\"val_loss\"]\n",
    "train_acc = model.history.history[\"acc\"]\n",
    "valid_acc = model.history.history[\"val_acc\"]\n",
    "\n",
    "# Load back\n",
    "model = keras.models.load_model(\"./tmp2.h5\")\n",
    "loss_loadback, acc_loadback = model.evaluate(x_test, y_test)     "
   ]
  },
  {
   "cell_type": "code",
   "execution_count": 12,
   "metadata": {},
   "outputs": [
    {
     "data": {
      "image/png": "[encoded data removed]",
      "text/plain": [
       "<Figure size 432x288 with 1 Axes>"
      ]
     },
     "metadata": {
      "needs_background": "light"
     },
     "output_type": "display_data"
    },
    {
     "data": {
      "image/png": "[encoded data removed]",
      "text/plain": [
       "<Figure size 432x288 with 1 Axes>"
      ]
     },
     "metadata": {
      "needs_background": "light"
     },
     "output_type": "display_data"
    }
   ],
   "source": [
    "plt.plot(range(len(train_loss)), train_loss, label=\"train loss\")\n",
    "plt.plot(range(len(valid_loss)), valid_loss, label=\"valid loss\")\n",
    "plt.hlines(y=loss_loadback, xmin=0, xmax=len(train_loss), colors='r', linestyles='--')\n",
    "plt.legend()\n",
    "plt.title(\"Loss\")\n",
    "plt.show()\n",
    "\n",
    "plt.plot(range(len(train_acc)), train_acc, label=\"train accuracy\")\n",
    "plt.plot(range(len(valid_acc)), valid_acc, label=\"valid accuracy\")\n",
    "plt.hlines(y=acc_loadback, xmin=0, xmax=len(train_loss), colors='r', linestyles='--')\n",
    "plt.legend()\n",
    "plt.title(\"Accuracy\")\n",
    "plt.show()"
   ]
  },
  {
   "cell_type": "code",
   "execution_count": null,
   "metadata": {},
   "outputs": [],
   "source": []
  }
 ],
 "metadata": {
  "kernelspec": {
   "display_name": "Python 3",
   "language": "python",
   "name": "python3"
  },
  "language_info": {
   "codemirror_mode": {
    "name": "ipython",
    "version": 3
   },
   "file_extension": ".py",
   "mimetype": "text/x-python",
   "name": "python",
   "nbconvert_exporter": "python",
   "pygments_lexer": "ipython3",
   "version": "3.7.3"
  }
 },
 "nbformat": 4,
 "nbformat_minor": 2
}
