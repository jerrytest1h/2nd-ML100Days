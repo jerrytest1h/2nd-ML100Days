{
 "cells": [
  {
   "cell_type": "markdown",
   "metadata": {},
   "source": [
    "## Work\n",
    "1. 請嘗試將 preproc_x 替換成以每筆資料的 min/max 進行標準化至 -1 ~ 1 間，再進行訓練\n",
    "2. 請嘗試將 mlp 疊更深 (e.g 5~10 層)，進行訓練後觀察 learning curve 的走勢\n",
    "3. (optional) 請改用 GPU 進行訓練 (如果你有 GPU 的話)，比較使用 CPU 與 GPU 的訓練速度"
   ]
  },
  {
   "cell_type": "code",
   "execution_count": 3,
   "metadata": {},
   "outputs": [
    {
     "name": "stdout",
     "output_type": "stream",
     "text": [
      "Fri Jul 12 07:50:01 2019       \n",
      "+-----------------------------------------------------------------------------+\n",
      "| NVIDIA-SMI 430.39       Driver Version: 430.39       CUDA Version: 10.1     |\n",
      "|-------------------------------+----------------------+----------------------+\n",
      "| GPU  Name            TCC/WDDM | Bus-Id        Disp.A | Volatile Uncorr. ECC |\n",
      "| Fan  Temp  Perf  Pwr:Usage/Cap|         Memory-Usage | GPU-Util  Compute M. |\n",
      "|===============================+======================+======================|\n",
      "|   0  GeForce GTX 107... WDDM  | 00000000:01:00.0 Off |                  N/A |\n",
      "| N/A   61C    P8    11W /  N/A |    111MiB /  8192MiB |      0%      Default |\n",
      "+-------------------------------+----------------------+----------------------+\n",
      "                                                                               \n",
      "+-----------------------------------------------------------------------------+\n",
      "| Processes:                                                       GPU Memory |\n",
      "|  GPU       PID   Type   Process name                             Usage      |\n",
      "|=============================================================================|\n",
      "|  No running processes found                                                 |\n",
      "+-----------------------------------------------------------------------------+\n"
     ]
    }
   ],
   "source": [
    "## \n",
    "\"\"\"\n",
    "Your code here (optional)\n",
    "確認硬體資源\n",
    "\"\"\"\n",
    "!nvidia-smi"
   ]
  },
  {
   "cell_type": "code",
   "execution_count": 4,
   "metadata": {},
   "outputs": [],
   "source": [
    "import os\n",
    "import keras\n",
    "\n",
    "# 請嘗試設定 GPU：os.environ\n"
   ]
  },
  {
   "cell_type": "code",
   "execution_count": 5,
   "metadata": {},
   "outputs": [],
   "source": [
    "train, test = keras.datasets.cifar10.load_data()"
   ]
  },
  {
   "cell_type": "code",
   "execution_count": 8,
   "metadata": {},
   "outputs": [],
   "source": [
    "## 資料前處理\n",
    "\"\"\"\n",
    "Your code here\n",
    "\"\"\"\n",
    "def preproc_x(x, flatten=True):\n",
    "    x = x / 255.\n",
    "    if flatten:\n",
    "        x = x.reshape((len(x), -1))\n",
    "    return x\n",
    "\n",
    "def preproc_y(y, num_classes=10):\n",
    "    if y.shape[-1] == 1:\n",
    "        y = keras.utils.to_categorical(y, num_classes)\n",
    "    return y    "
   ]
  },
  {
   "cell_type": "code",
   "execution_count": 9,
   "metadata": {},
   "outputs": [
    {
     "data": {
      "text/plain": [
       "array([[0.23137255, 0.24313725, 0.24705882, ..., 0.48235294, 0.36078431,\n",
       "        0.28235294],\n",
       "       [0.60392157, 0.69411765, 0.73333333, ..., 0.56078431, 0.52156863,\n",
       "        0.56470588],\n",
       "       [1.        , 1.        , 1.        , ..., 0.31372549, 0.3372549 ,\n",
       "        0.32941176],\n",
       "       ...,\n",
       "       [0.1372549 , 0.69803922, 0.92156863, ..., 0.04705882, 0.12156863,\n",
       "        0.19607843],\n",
       "       [0.74117647, 0.82745098, 0.94117647, ..., 0.76470588, 0.74509804,\n",
       "        0.67058824],\n",
       "       [0.89803922, 0.89803922, 0.9372549 , ..., 0.63921569, 0.63921569,\n",
       "        0.63137255]])"
      ]
     },
     "execution_count": 9,
     "metadata": {},
     "output_type": "execute_result"
    }
   ],
   "source": [
    "x_train, y_train = train\n",
    "x_test, y_test = test\n",
    "\n",
    "# Preproc the inputs\n",
    "x_train = preproc_x(x_train)\n",
    "x_test = preproc_x(x_test)\n",
    "\n",
    "# Preprc the outputs\n",
    "y_train = preproc_y(y_train)\n",
    "y_test = preproc_y(y_test)\n",
    "\n",
    "x_train"
   ]
  },
  {
   "cell_type": "code",
   "execution_count": 12,
   "metadata": {},
   "outputs": [
    {
     "name": "stderr",
     "output_type": "stream",
     "text": [
      "W0712 07:51:24.491161   948 deprecation_wrapper.py:119] From C:\\Users\\jerry\\Anaconda3\\lib\\site-packages\\keras\\backend\\tensorflow_backend.py:4138: The name tf.random_uniform is deprecated. Please use tf.random.uniform instead.\n",
      "\n"
     ]
    },
    {
     "name": "stdout",
     "output_type": "stream",
     "text": [
      "_________________________________________________________________\n",
      "Layer (type)                 Output Shape              Param #   \n",
      "=================================================================\n",
      "input_2 (InputLayer)         (None, 3072)              0         \n",
      "_________________________________________________________________\n",
      "hidden_layer1 (Dense)        (None, 512)               1573376   \n",
      "_________________________________________________________________\n",
      "hidden_layer2 (Dense)        (None, 256)               131328    \n",
      "_________________________________________________________________\n",
      "hidden_layer3 (Dense)        (None, 128)               32896     \n",
      "_________________________________________________________________\n",
      "output (Dense)               (None, 10)                1290      \n",
      "=================================================================\n",
      "Total params: 1,738,890\n",
      "Trainable params: 1,738,890\n",
      "Non-trainable params: 0\n",
      "_________________________________________________________________\n"
     ]
    }
   ],
   "source": [
    "\"\"\"Code Here\n",
    "建立你的神經網路\n",
    "\"\"\"\n",
    "def build_mlp(input_shape, output_units=10, num_neurons=[512, 256, 128]):\n",
    "    input_layer = keras.layers.Input(input_shape)\n",
    "    \n",
    "    for i, n_units in enumerate(num_neurons):\n",
    "        if i == 0:\n",
    "            x = keras.layers.Dense(units=n_units, activation=\"relu\", name=\"hidden_layer\"+str(i+1))(input_layer)\n",
    "        else:\n",
    "            x = keras.layers.Dense(units=n_units, activation=\"relu\", name=\"hidden_layer\"+str(i+1))(x)\n",
    "    \n",
    "    out = keras.layers.Dense(units=output_units, activation=\"softmax\", name=\"output\")(x)\n",
    "    \n",
    "    model = keras.models.Model(inputs=[input_layer], outputs=[out])\n",
    "    return model\n",
    "\n",
    "model = build_mlp(input_shape=x_train.shape[1:])\n",
    "model.summary()"
   ]
  },
  {
   "cell_type": "code",
   "execution_count": 13,
   "metadata": {},
   "outputs": [],
   "source": [
    "## 超參數設定\n",
    "LEARNING_RATE = 0.001\n",
    "EPOCHS = 100\n",
    "BATCH_SIZE = 256"
   ]
  },
  {
   "cell_type": "code",
   "execution_count": 14,
   "metadata": {},
   "outputs": [
    {
     "name": "stderr",
     "output_type": "stream",
     "text": [
      "W0712 07:51:28.856455   948 deprecation_wrapper.py:119] From C:\\Users\\jerry\\Anaconda3\\lib\\site-packages\\keras\\optimizers.py:790: The name tf.train.Optimizer is deprecated. Please use tf.compat.v1.train.Optimizer instead.\n",
      "\n",
      "W0712 07:51:28.890183   948 deprecation_wrapper.py:119] From C:\\Users\\jerry\\Anaconda3\\lib\\site-packages\\keras\\backend\\tensorflow_backend.py:3295: The name tf.log is deprecated. Please use tf.math.log instead.\n",
      "\n"
     ]
    }
   ],
   "source": [
    "optimizer = keras.optimizers.Adam(lr=LEARNING_RATE)\n",
    "model.compile(loss=\"categorical_crossentropy\", metrics=[\"accuracy\"], optimizer=optimizer)"
   ]
  },
  {
   "cell_type": "code",
   "execution_count": 15,
   "metadata": {},
   "outputs": [
    {
     "name": "stderr",
     "output_type": "stream",
     "text": [
      "W0712 07:51:29.718997   948 deprecation.py:323] From C:\\Users\\jerry\\Anaconda3\\lib\\site-packages\\tensorflow\\python\\ops\\math_grad.py:1250: add_dispatch_support.<locals>.wrapper (from tensorflow.python.ops.array_ops) is deprecated and will be removed in a future version.\n",
      "Instructions for updating:\n",
      "Use tf.where in 2.0, which has the same broadcast rule as np.where\n",
      "W0712 07:51:29.983366   948 deprecation_wrapper.py:119] From C:\\Users\\jerry\\Anaconda3\\lib\\site-packages\\keras\\backend\\tensorflow_backend.py:986: The name tf.assign_add is deprecated. Please use tf.compat.v1.assign_add instead.\n",
      "\n"
     ]
    },
    {
     "name": "stdout",
     "output_type": "stream",
     "text": [
      "Train on 50000 samples, validate on 10000 samples\n",
      "Epoch 1/100\n",
      "50000/50000 [==============================] - 25s 490us/step - loss: 1.9329 - acc: 0.3007 - val_loss: 1.7608 - val_acc: 0.3725\n",
      "Epoch 2/100\n",
      "50000/50000 [==============================] - 21s 427us/step - loss: 1.7066 - acc: 0.3901 - val_loss: 1.6291 - val_acc: 0.4140\n",
      "Epoch 3/100\n",
      "50000/50000 [==============================] - 16s 312us/step - loss: 1.6132 - acc: 0.4248 - val_loss: 1.5587 - val_acc: 0.4492\n",
      "Epoch 4/100\n",
      "50000/50000 [==============================] - 16s 315us/step - loss: 1.5463 - acc: 0.4498 - val_loss: 1.5908 - val_acc: 0.4378\n",
      "Epoch 5/100\n",
      "50000/50000 [==============================] - 14s 281us/step - loss: 1.5010 - acc: 0.4645 - val_loss: 1.5632 - val_acc: 0.4378\n",
      "Epoch 6/100\n",
      "50000/50000 [==============================] - 14s 276us/step - loss: 1.4664 - acc: 0.4757 - val_loss: 1.4990 - val_acc: 0.4584\n",
      "Epoch 7/100\n",
      "50000/50000 [==============================] - 14s 279us/step - loss: 1.4356 - acc: 0.4845 - val_loss: 1.4985 - val_acc: 0.4644\n",
      "Epoch 8/100\n",
      "50000/50000 [==============================] - 14s 279us/step - loss: 1.4089 - acc: 0.4980 - val_loss: 1.4797 - val_acc: 0.4739\n",
      "Epoch 9/100\n",
      "50000/50000 [==============================] - 14s 289us/step - loss: 1.3760 - acc: 0.5089 - val_loss: 1.4321 - val_acc: 0.4864\n",
      "Epoch 10/100\n",
      "50000/50000 [==============================] - 15s 303us/step - loss: 1.3532 - acc: 0.5192 - val_loss: 1.4499 - val_acc: 0.4842\n",
      "Epoch 11/100\n",
      "50000/50000 [==============================] - 14s 280us/step - loss: 1.3310 - acc: 0.5261 - val_loss: 1.4102 - val_acc: 0.4944\n",
      "Epoch 12/100\n",
      "50000/50000 [==============================] - 14s 282us/step - loss: 1.3097 - acc: 0.5339 - val_loss: 1.4858 - val_acc: 0.4739\n",
      "Epoch 13/100\n",
      "50000/50000 [==============================] - 14s 276us/step - loss: 1.2841 - acc: 0.5436 - val_loss: 1.4561 - val_acc: 0.4904\n",
      "Epoch 14/100\n",
      "50000/50000 [==============================] - 14s 281us/step - loss: 1.2591 - acc: 0.5521 - val_loss: 1.3869 - val_acc: 0.5083\n",
      "Epoch 15/100\n",
      "50000/50000 [==============================] - 14s 283us/step - loss: 1.2423 - acc: 0.5580 - val_loss: 1.4179 - val_acc: 0.5038\n",
      "Epoch 16/100\n",
      "50000/50000 [==============================] - 15s 308us/step - loss: 1.2194 - acc: 0.5655 - val_loss: 1.3858 - val_acc: 0.5076\n",
      "Epoch 17/100\n",
      "50000/50000 [==============================] - 17s 349us/step - loss: 1.1891 - acc: 0.5749 - val_loss: 1.4260 - val_acc: 0.5093\n",
      "Epoch 18/100\n",
      "50000/50000 [==============================] - 15s 307us/step - loss: 1.1768 - acc: 0.5795 - val_loss: 1.3867 - val_acc: 0.5075\n",
      "Epoch 19/100\n",
      "50000/50000 [==============================] - 15s 308us/step - loss: 1.1604 - acc: 0.5849 - val_loss: 1.3945 - val_acc: 0.5109 1s - loss: 1.1\n",
      "Epoch 20/100\n",
      "50000/50000 [==============================] - 15s 292us/step - loss: 1.1365 - acc: 0.5938 - val_loss: 1.3549 - val_acc: 0.5262\n",
      "Epoch 21/100\n",
      "50000/50000 [==============================] - 14s 286us/step - loss: 1.1176 - acc: 0.6012 - val_loss: 1.4423 - val_acc: 0.5039\n",
      "Epoch 22/100\n",
      "50000/50000 [==============================] - 14s 276us/step - loss: 1.0993 - acc: 0.6077 - val_loss: 1.3786 - val_acc: 0.5270\n",
      "Epoch 23/100\n",
      "50000/50000 [==============================] - 14s 281us/step - loss: 1.0763 - acc: 0.6164 - val_loss: 1.3751 - val_acc: 0.5233\n",
      "Epoch 24/100\n",
      "50000/50000 [==============================] - 14s 273us/step - loss: 1.0501 - acc: 0.6246 - val_loss: 1.3773 - val_acc: 0.5272\n",
      "Epoch 25/100\n",
      "50000/50000 [==============================] - 13s 270us/step - loss: 1.0333 - acc: 0.6298 - val_loss: 1.3847 - val_acc: 0.5319\n",
      "Epoch 26/100\n",
      "50000/50000 [==============================] - 14s 271us/step - loss: 1.0202 - acc: 0.6352 - val_loss: 1.4018 - val_acc: 0.5234\n",
      "Epoch 27/100\n",
      "50000/50000 [==============================] - 14s 270us/step - loss: 1.0022 - acc: 0.6416 - val_loss: 1.4066 - val_acc: 0.5227\n",
      "Epoch 28/100\n",
      "50000/50000 [==============================] - 14s 272us/step - loss: 0.9843 - acc: 0.6496 - val_loss: 1.4089 - val_acc: 0.5213\n",
      "Epoch 29/100\n",
      "50000/50000 [==============================] - 14s 272us/step - loss: 0.9568 - acc: 0.6598 - val_loss: 1.4179 - val_acc: 0.5222\n",
      "Epoch 30/100\n",
      "50000/50000 [==============================] - 14s 270us/step - loss: 0.9403 - acc: 0.6655 - val_loss: 1.4217 - val_acc: 0.5243\n",
      "Epoch 31/100\n",
      "50000/50000 [==============================] - 13s 270us/step - loss: 0.9307 - acc: 0.6680 - val_loss: 1.4352 - val_acc: 0.5269\n",
      "Epoch 32/100\n",
      "50000/50000 [==============================] - 14s 273us/step - loss: 0.9042 - acc: 0.6800 - val_loss: 1.4623 - val_acc: 0.5171\n",
      "Epoch 33/100\n",
      "50000/50000 [==============================] - 14s 284us/step - loss: 0.8895 - acc: 0.6815 - val_loss: 1.4360 - val_acc: 0.5238\n",
      "Epoch 34/100\n",
      "50000/50000 [==============================] - 15s 296us/step - loss: 0.8770 - acc: 0.6862 - val_loss: 1.4640 - val_acc: 0.5285\n",
      "Epoch 35/100\n",
      "50000/50000 [==============================] - 15s 298us/step - loss: 0.8596 - acc: 0.6932 - val_loss: 1.4910 - val_acc: 0.5205\n",
      "Epoch 36/100\n",
      "50000/50000 [==============================] - 15s 291us/step - loss: 0.8348 - acc: 0.7022 - val_loss: 1.5067 - val_acc: 0.5188\n",
      "Epoch 37/100\n",
      "50000/50000 [==============================] - 14s 280us/step - loss: 0.8280 - acc: 0.7053 - val_loss: 1.5017 - val_acc: 0.5189\n",
      "Epoch 38/100\n",
      "50000/50000 [==============================] - 14s 280us/step - loss: 0.8097 - acc: 0.7096 - val_loss: 1.5441 - val_acc: 0.5140\n",
      "Epoch 39/100\n",
      "50000/50000 [==============================] - 14s 285us/step - loss: 0.7859 - acc: 0.7205 - val_loss: 1.5674 - val_acc: 0.5290\n",
      "Epoch 40/100\n",
      "50000/50000 [==============================] - 14s 286us/step - loss: 0.7736 - acc: 0.7251 - val_loss: 1.6032 - val_acc: 0.5133\n",
      "Epoch 41/100\n",
      "50000/50000 [==============================] - 15s 293us/step - loss: 0.7615 - acc: 0.7260 - val_loss: 1.5854 - val_acc: 0.5276\n",
      "Epoch 42/100\n",
      "50000/50000 [==============================] - 14s 282us/step - loss: 0.7576 - acc: 0.7276 - val_loss: 1.6127 - val_acc: 0.5266\n",
      "Epoch 43/100\n",
      "50000/50000 [==============================] - 14s 278us/step - loss: 0.7502 - acc: 0.7322 - val_loss: 1.6088 - val_acc: 0.5210\n",
      "Epoch 44/100\n",
      "50000/50000 [==============================] - 14s 278us/step - loss: 0.7257 - acc: 0.7403 - val_loss: 1.6778 - val_acc: 0.5232\n",
      "Epoch 45/100\n",
      "50000/50000 [==============================] - 14s 280us/step - loss: 0.7092 - acc: 0.7478 - val_loss: 1.6830 - val_acc: 0.5171\n",
      "Epoch 46/100\n",
      "50000/50000 [==============================] - 14s 276us/step - loss: 0.6857 - acc: 0.7570 - val_loss: 1.7243 - val_acc: 0.5113\n",
      "Epoch 47/100\n",
      "50000/50000 [==============================] - 14s 281us/step - loss: 0.6836 - acc: 0.7561 - val_loss: 1.7728 - val_acc: 0.5164\n",
      "Epoch 48/100\n",
      "50000/50000 [==============================] - 14s 282us/step - loss: 0.6718 - acc: 0.7603 - val_loss: 1.7539 - val_acc: 0.5210\n",
      "Epoch 49/100\n",
      "50000/50000 [==============================] - 14s 283us/step - loss: 0.6651 - acc: 0.7630 - val_loss: 1.7645 - val_acc: 0.5061\n",
      "Epoch 50/100\n",
      "50000/50000 [==============================] - 14s 281us/step - loss: 0.6406 - acc: 0.7728 - val_loss: 1.7735 - val_acc: 0.5173\n",
      "Epoch 51/100\n",
      "50000/50000 [==============================] - 14s 280us/step - loss: 0.6310 - acc: 0.7729 - val_loss: 1.7743 - val_acc: 0.5175\n",
      "Epoch 52/100\n",
      "50000/50000 [==============================] - 14s 280us/step - loss: 0.6113 - acc: 0.7810 - val_loss: 1.8913 - val_acc: 0.5136\n",
      "Epoch 53/100\n",
      "50000/50000 [==============================] - 14s 280us/step - loss: 0.5978 - acc: 0.7875 - val_loss: 1.8784 - val_acc: 0.5041\n",
      "Epoch 54/100\n",
      "50000/50000 [==============================] - 14s 282us/step - loss: 0.5884 - acc: 0.7885 - val_loss: 1.8553 - val_acc: 0.5130\n",
      "Epoch 55/100\n",
      "50000/50000 [==============================] - 14s 280us/step - loss: 0.5861 - acc: 0.7880 - val_loss: 1.9053 - val_acc: 0.5127\n",
      "Epoch 56/100\n",
      "50000/50000 [==============================] - 14s 280us/step - loss: 0.5945 - acc: 0.7861 - val_loss: 1.9499 - val_acc: 0.5064\n",
      "Epoch 57/100\n",
      "50000/50000 [==============================] - 14s 283us/step - loss: 0.5707 - acc: 0.7966 - val_loss: 1.9070 - val_acc: 0.5220\n",
      "Epoch 58/100\n",
      "50000/50000 [==============================] - 14s 278us/step - loss: 0.5434 - acc: 0.8060 - val_loss: 1.9802 - val_acc: 0.5206\n"
     ]
    },
    {
     "name": "stdout",
     "output_type": "stream",
     "text": [
      "Epoch 59/100\n",
      "50000/50000 [==============================] - 14s 280us/step - loss: 0.5469 - acc: 0.8037 - val_loss: 1.9662 - val_acc: 0.5103\n",
      "Epoch 60/100\n",
      "50000/50000 [==============================] - 14s 281us/step - loss: 0.5316 - acc: 0.8106 - val_loss: 2.0647 - val_acc: 0.5023\n",
      "Epoch 61/100\n",
      "50000/50000 [==============================] - 14s 280us/step - loss: 0.5165 - acc: 0.8130 - val_loss: 2.0608 - val_acc: 0.5115\n",
      "Epoch 62/100\n",
      "50000/50000 [==============================] - 14s 280us/step - loss: 0.5021 - acc: 0.8188 - val_loss: 2.0946 - val_acc: 0.5048\n",
      "Epoch 63/100\n",
      "50000/50000 [==============================] - 14s 278us/step - loss: 0.4895 - acc: 0.8236 - val_loss: 2.2019 - val_acc: 0.4997\n",
      "Epoch 64/100\n",
      "50000/50000 [==============================] - 14s 281us/step - loss: 0.4931 - acc: 0.8243 - val_loss: 2.1779 - val_acc: 0.5049\n",
      "Epoch 65/100\n",
      "50000/50000 [==============================] - 14s 281us/step - loss: 0.4725 - acc: 0.8305 - val_loss: 2.1866 - val_acc: 0.5044\n",
      "Epoch 66/100\n",
      "50000/50000 [==============================] - 14s 283us/step - loss: 0.4699 - acc: 0.8308 - val_loss: 2.2907 - val_acc: 0.5022\n",
      "Epoch 67/100\n",
      "50000/50000 [==============================] - 14s 281us/step - loss: 0.4798 - acc: 0.8277 - val_loss: 2.2592 - val_acc: 0.5031\n",
      "Epoch 68/100\n",
      "50000/50000 [==============================] - 14s 281us/step - loss: 0.4511 - acc: 0.8403 - val_loss: 2.2960 - val_acc: 0.4973\n",
      "Epoch 69/100\n",
      "50000/50000 [==============================] - 14s 280us/step - loss: 0.4413 - acc: 0.8415 - val_loss: 2.2601 - val_acc: 0.5085\n",
      "Epoch 70/100\n",
      "50000/50000 [==============================] - 14s 282us/step - loss: 0.4447 - acc: 0.8404 - val_loss: 2.3049 - val_acc: 0.5098\n",
      "Epoch 71/100\n",
      "50000/50000 [==============================] - 14s 281us/step - loss: 0.4321 - acc: 0.8435 - val_loss: 2.3681 - val_acc: 0.4926\n",
      "Epoch 72/100\n",
      "50000/50000 [==============================] - 14s 280us/step - loss: 0.4255 - acc: 0.8456 - val_loss: 2.4274 - val_acc: 0.5052\n",
      "Epoch 73/100\n",
      "50000/50000 [==============================] - 14s 282us/step - loss: 0.4167 - acc: 0.8499 - val_loss: 2.4111 - val_acc: 0.5096\n",
      "Epoch 74/100\n",
      "50000/50000 [==============================] - 14s 281us/step - loss: 0.4059 - acc: 0.8545 - val_loss: 2.4311 - val_acc: 0.5061\n",
      "Epoch 75/100\n",
      "50000/50000 [==============================] - 14s 282us/step - loss: 0.3942 - acc: 0.8573 - val_loss: 2.4731 - val_acc: 0.5063\n",
      "Epoch 76/100\n",
      "50000/50000 [==============================] - 14s 280us/step - loss: 0.4021 - acc: 0.8571 - val_loss: 2.4861 - val_acc: 0.5138\n",
      "Epoch 77/100\n",
      "50000/50000 [==============================] - 14s 281us/step - loss: 0.3808 - acc: 0.8645 - val_loss: 2.5938 - val_acc: 0.5062\n",
      "Epoch 78/100\n",
      "50000/50000 [==============================] - 14s 283us/step - loss: 0.3819 - acc: 0.8637 - val_loss: 2.5995 - val_acc: 0.4992\n",
      "Epoch 79/100\n",
      "50000/50000 [==============================] - 14s 281us/step - loss: 0.3690 - acc: 0.8692 - val_loss: 2.6383 - val_acc: 0.4993\n",
      "Epoch 80/100\n",
      "50000/50000 [==============================] - 14s 282us/step - loss: 0.3829 - acc: 0.8618 - val_loss: 2.6238 - val_acc: 0.4970\n",
      "Epoch 81/100\n",
      "50000/50000 [==============================] - 14s 280us/step - loss: 0.3775 - acc: 0.8630 - val_loss: 2.5829 - val_acc: 0.5021\n",
      "Epoch 82/100\n",
      "50000/50000 [==============================] - 14s 276us/step - loss: 0.3493 - acc: 0.8753 - val_loss: 2.6088 - val_acc: 0.5086\n",
      "Epoch 83/100\n",
      "50000/50000 [==============================] - 14s 273us/step - loss: 0.3609 - acc: 0.8709 - val_loss: 2.6441 - val_acc: 0.5046\n",
      "Epoch 84/100\n",
      "50000/50000 [==============================] - 14s 272us/step - loss: 0.3615 - acc: 0.8703 - val_loss: 2.7520 - val_acc: 0.4937\n",
      "Epoch 85/100\n",
      "50000/50000 [==============================] - 14s 272us/step - loss: 0.3564 - acc: 0.8707 - val_loss: 2.7433 - val_acc: 0.4993\n",
      "Epoch 86/100\n",
      "50000/50000 [==============================] - 14s 272us/step - loss: 0.3510 - acc: 0.8732 - val_loss: 2.7369 - val_acc: 0.4920\n",
      "Epoch 87/100\n",
      "50000/50000 [==============================] - 14s 270us/step - loss: 0.3561 - acc: 0.8718 - val_loss: 2.8030 - val_acc: 0.5010\n",
      "Epoch 88/100\n",
      "50000/50000 [==============================] - 14s 272us/step - loss: 0.3328 - acc: 0.8803 - val_loss: 2.8274 - val_acc: 0.4986\n",
      "Epoch 89/100\n",
      "50000/50000 [==============================] - 14s 272us/step - loss: 0.3180 - acc: 0.8874 - val_loss: 2.8385 - val_acc: 0.4973\n",
      "Epoch 90/100\n",
      "50000/50000 [==============================] - 14s 272us/step - loss: 0.3305 - acc: 0.8805 - val_loss: 2.8514 - val_acc: 0.5021\n",
      "Epoch 91/100\n",
      "50000/50000 [==============================] - 14s 271us/step - loss: 0.3099 - acc: 0.8892 - val_loss: 2.8407 - val_acc: 0.4985\n",
      "Epoch 92/100\n",
      "50000/50000 [==============================] - 14s 274us/step - loss: 0.3257 - acc: 0.8834 - val_loss: 2.9124 - val_acc: 0.4940\n",
      "Epoch 93/100\n",
      "50000/50000 [==============================] - 14s 273us/step - loss: 0.3066 - acc: 0.8894 - val_loss: 2.9567 - val_acc: 0.4946\n",
      "Epoch 94/100\n",
      "50000/50000 [==============================] - 14s 272us/step - loss: 0.3360 - acc: 0.8785 - val_loss: 3.0111 - val_acc: 0.4950\n",
      "Epoch 95/100\n",
      "50000/50000 [==============================] - 14s 273us/step - loss: 0.2814 - acc: 0.9002 - val_loss: 2.9925 - val_acc: 0.4937\n",
      "Epoch 96/100\n",
      "50000/50000 [==============================] - 14s 272us/step - loss: 0.2842 - acc: 0.8991 - val_loss: 3.0281 - val_acc: 0.4989\n",
      "Epoch 97/100\n",
      "50000/50000 [==============================] - 14s 273us/step - loss: 0.3003 - acc: 0.8912 - val_loss: 3.0119 - val_acc: 0.5019\n",
      "Epoch 98/100\n",
      "50000/50000 [==============================] - 14s 271us/step - loss: 0.2806 - acc: 0.8979 - val_loss: 3.0624 - val_acc: 0.4923\n",
      "Epoch 99/100\n",
      "50000/50000 [==============================] - 14s 281us/step - loss: 0.3051 - acc: 0.8886 - val_loss: 2.9827 - val_acc: 0.4935\n",
      "Epoch 100/100\n",
      "50000/50000 [==============================] - 14s 274us/step - loss: 0.2969 - acc: 0.8936 - val_loss: 3.0869 - val_acc: 0.4990\n"
     ]
    },
    {
     "data": {
      "text/plain": [
       "<keras.callbacks.History at 0x1aa26b38a58>"
      ]
     },
     "execution_count": 15,
     "metadata": {},
     "output_type": "execute_result"
    }
   ],
   "source": [
    "model.fit(x_train, y_train, \n",
    "          epochs=EPOCHS, \n",
    "          batch_size=BATCH_SIZE, \n",
    "          validation_data=(x_test, y_test), \n",
    "          shuffle=True)"
   ]
  },
  {
   "cell_type": "code",
   "execution_count": 16,
   "metadata": {},
   "outputs": [
    {
     "data": {
      "image/png": "[encoded data removed]",
      "text/plain": [
       "<Figure size 432x288 with 1 Axes>"
      ]
     },
     "metadata": {
      "needs_background": "light"
     },
     "output_type": "display_data"
    },
    {
     "data": {
      "image/png": "[encoded data removed]",
      "text/plain": [
       "<Figure size 432x288 with 1 Axes>"
      ]
     },
     "metadata": {
      "needs_background": "light"
     },
     "output_type": "display_data"
    }
   ],
   "source": [
    "import matplotlib.pyplot as plt\n",
    "\n",
    "\n",
    "train_loss = model.history.history[\"loss\"]\n",
    "valid_loss = model.history.history[\"val_loss\"]\n",
    "\n",
    "train_acc = model.history.history[\"acc\"]\n",
    "valid_acc = model.history.history[\"val_acc\"]\n",
    "\n",
    "plt.plot(range(len(train_loss)), train_loss, label=\"train loss\")\n",
    "plt.plot(range(len(valid_loss)), valid_loss, label=\"valid loss\")\n",
    "plt.legend()\n",
    "plt.title(\"Loss\")\n",
    "plt.show()\n",
    "\n",
    "plt.plot(range(len(train_acc)), train_acc, label=\"train accuracy\")\n",
    "plt.plot(range(len(valid_acc)), valid_acc, label=\"valid accuracy\")\n",
    "plt.legend()\n",
    "plt.title(\"Accuracy\")\n",
    "plt.show()"
   ]
  },
  {
   "cell_type": "code",
   "execution_count": null,
   "metadata": {},
   "outputs": [],
   "source": []
  }
 ],
 "metadata": {
  "kernelspec": {
   "display_name": "Python 3",
   "language": "python",
   "name": "python3"
  },
  "language_info": {
   "codemirror_mode": {
    "name": "ipython",
    "version": 3
   },
   "file_extension": ".py",
   "mimetype": "text/x-python",
   "name": "python",
   "nbconvert_exporter": "python",
   "pygments_lexer": "ipython3",
   "version": "3.7.3"
  }
 },
 "nbformat": 4,
 "nbformat_minor": 2
}
